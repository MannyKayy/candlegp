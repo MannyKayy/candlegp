{
 "cells": [
  {
   "cell_type": "markdown",
   "metadata": {
    "cell_id": "51C00349CB0644A5868A3279F91173CC"
   },
   "source": [
    "# Discussion of the GP marginal likelihood upper bound\n",
    "Mark van der Wilk, Augustus 2017\n",
    "\n",
    "Adapted to Pytorch by Thomas Viehmann\n",
    "\n",
    "See [gp_upper](https://github.com/markvdw/gp_upper) for code to tighten the upper bound through optimisation, and a more comprehensive discussion."
   ]
  },
  {
   "cell_type": "code",
   "execution_count": 13,
   "metadata": {
    "cell_id": "63AB1A9C19AE4E56925C81D3E5CBB02E"
   },
   "outputs": [],
   "source": [
    "%matplotlib inline\n",
    "import numpy\n",
    "from matplotlib import pyplot\n",
    "import pandas\n",
    "\n",
    "import sys, os\n",
    "sys.path.append(os.path.join(os.getcwd(),'..'))\n",
    "\n",
    "pyplot.style.use('ggplot')\n",
    "\n",
    "import torch\n",
    "from torch.autograd import Variable\n",
    "\n",
    "import candlegp"
   ]
  },
  {
   "cell_type": "code",
   "execution_count": 50,
   "metadata": {
    "cell_id": "FE72BB8CF40E41B6B16F42B80639F6E7"
   },
   "outputs": [
    {
     "data": {
      "text/plain": [
       "(torch.Size([50, 1]), torch.Size([50]))"
      ]
     },
     "execution_count": 50,
     "metadata": {},
     "output_type": "execute_result"
    },
    {
     "data": {
      "image/png": "[encoded data removed]",
      "text/plain": [
       "<matplotlib.figure.Figure at 0x7fc25841d908>"
      ]
     },
     "metadata": {},
     "output_type": "display_data"
    }
   ],
   "source": [
    "if 0:\n",
    "    N = 20\n",
    "    X = torch.rand(N,1).double()\n",
    "    Y = (torch.sin(12*X) + 0.6*torch.cos(25*X) + torch.randn(N,1).double()*0.1+3.0).squeeze(1)\n",
    "    pyplot.figure()\n",
    "    pyplot.plot(X.numpy(), Y.numpy(), 'kx', mew=2)\n",
    "else:\n",
    "    x = pandas.read_csv(r\"/home/tv/data/notebooks/pytorch/gp/gpflow/doc/source/notebooks/data/snelson_train_inputs\", header=None).as_matrix()[::4]\n",
    "    y = pandas.read_csv(r\"/home/tv/data/notebooks/pytorch/gp/gpflow/doc/source/notebooks/data/snelson_train_outputs\", header=None).as_matrix()[::4]\n",
    "    X = torch.from_numpy(x).double()\n",
    "    Y = torch.from_numpy(y).double().squeeze()\n",
    "    pyplot.plot(x,y,'.')\n",
    "X.size(), Y.size()"
   ]
  },
  {
   "cell_type": "code",
   "execution_count": 37,
   "metadata": {
    "cell_id": "D8CBCFC9DF99492B8B61D68283710E97"
   },
   "outputs": [],
   "source": [
    "def plot_model(m, name=\"\"):\n",
    "    pX = np.linspace(-3, 9, 100)[:, None]\n",
    "    pY, pYv = m.predict_y(pX)\n",
    "    plt.plot(X, Y, 'x')\n",
    "    plt.plot(pX, pY)\n",
    "    try:\n",
    "        plt.plot(m.Z.value, m.Z.value * 0, 'o')\n",
    "    except AttributeError:\n",
    "        pass\n",
    "    two_sigma = (2.0 * pYv ** 0.5)[:, 0]\n",
    "    plt.fill_between(pX[:, 0], pY[:, 0] - two_sigma, pY[:, 0] + two_sigma, alpha=0.15)\n",
    "    lml = -m._objective(m.get_free_state())[0]\n",
    "    plt.title(\"%s (lml = %f)\" % (name, lml))\n",
    "    return lml"
   ]
  },
  {
   "cell_type": "markdown",
   "metadata": {
    "cell_id": "1A62655B80374A19828E55E5649F94CA"
   },
   "source": [
    "## Full model"
   ]
  },
  {
   "cell_type": "code",
   "execution_count": 54,
   "metadata": {
    "cell_id": "22C5E1CBEA9946FC80BC201ECFCFAA3E"
   },
   "outputs": [
    {
     "name": "stdout",
     "output_type": "stream",
     "text": [
      "0 : 109.52572774603043\n",
      "5 : 87.47282420256622\n",
      "10 : 87.44634484071267\n",
      "15 : 87.44588181053679\n",
      "20 : 87.44587352762056\n",
      "25 : 87.4458734225139\n",
      "30 : 87.44587341809452\n",
      "35 : 87.44587341409681\n",
      "40 : 87.4458734104829\n",
      "45 : 87.44587340721304\n"
     ]
    },
    {
     "data": {
      "text/html": [
       "Model GPR<ul><li>mean_function: Zero</li><li>kern: RBF</li><li>likelihood: Gaussian</li></ul><table><tr><th>Parameter</th><th>Value</th><th>Prior</th><th>ParamType</th></tr><tr><td>kern.variance</td><td>[ 0.98726803]</td><td>None</td><td>PositiveParam</td></tr><tr><td>kern.lengthscales</td><td>[ 0.53361362]</td><td>None</td><td>PositiveParam</td></tr><tr><td>likelihood.variance</td><td>[ 0.15028446]</td><td>None</td><td>PositiveParam</td></tr></table>"
      ],
      "text/plain": [
       "GPR (\n",
       "  (mean_function): Zero (\n",
       "  )\n",
       "  (kern): RBF (\n",
       "  )\n",
       "  (likelihood): Gaussian (\n",
       "  )\n",
       ")"
      ]
     },
     "execution_count": 54,
     "metadata": {},
     "output_type": "execute_result"
    },
    {
     "data": {
      "image/png": "[encoded data removed]",
      "text/plain": [
       "<matplotlib.figure.Figure at 0x7fc259f35198>"
      ]
     },
     "metadata": {},
     "output_type": "display_data"
    }
   ],
   "source": [
    "def optimize(m, lr=5e-3):\n",
    "    opt = torch.optim.LBFGS(m.parameters(), lr=lr, max_iter=40)\n",
    "    def eval_model():\n",
    "        obj = m()\n",
    "        opt.zero_grad()\n",
    "        obj.backward()\n",
    "        return obj\n",
    "\n",
    "    for i in range(50):\n",
    "        obj = m()\n",
    "        opt.zero_grad()\n",
    "        obj.backward()\n",
    "        opt.step(eval_model)\n",
    "        if i%5==0:\n",
    "            print(i,':',obj.data[0])\n",
    "    return obj.data[0]\n",
    "\n",
    "k = candlegp.kernels.RBF(1, lengthscales=torch.DoubleTensor([1.0]),variance=torch.DoubleTensor([1.0]))\n",
    "m = candlegp.models.GPR(Variable(X), Variable(Y.unsqueeze(1)), kern=k)\n",
    "#m.likelihood.variance.set(0.01)\n",
    "\n",
    "full_lml = optimize(m, lr=1e-2)\n",
    "\n",
    "xstar = torch.linspace(-3,9,100).double()\n",
    "mu, var = m.predict_y(Variable(xstar.unsqueeze(1)))\n",
    "cred_size = (var**0.5*2).squeeze(1)\n",
    "mu = mu.squeeze(1)\n",
    "pyplot.plot(xstar.numpy(),mu.data.numpy(),'b')\n",
    "pyplot.fill_between(xstar.numpy(),mu.data.numpy()+cred_size.data.numpy(), mu.data.numpy()-cred_size.data.numpy(),facecolor='0.75')\n",
    "pyplot.plot(X.numpy(), Y.numpy(), 'kx', mew=2)\n",
    "\n",
    "m"
   ]
  },
  {
   "cell_type": "markdown",
   "metadata": {
    "cell_id": "2BD4CA11A4ED42329C0CE12D49B5FD74"
   },
   "source": [
    "## Upper bounds for sparse variational models\n",
    "As a first investigation, we compute the upper bound for models trained using the sparse variational GP approximation."
   ]
  },
  {
   "cell_type": "code",
   "execution_count": 53,
   "metadata": {
    "cell_id": "C1E3FDAA3157412C8199EBA253DF8FD2"
   },
   "outputs": [
    {
     "name": "stdout",
     "output_type": "stream",
     "text": [
      "0 : 5924.721645037401\n",
      "5 : 980.1407196188084\n",
      "10 : 248.8587322195665\n",
      "15 : 65.1036660443977\n",
      "20 : 46.1693705867759\n",
      "25 : 41.263920452457626\n",
      "30 : 40.879312641563175\n",
      "35 : 40.83678592246355\n",
      "40 : 40.83151585836692\n",
      "45 : 40.83084065725802\n",
      "4 0 : 5858.736402295505\n",
      "5 : 950.7849226011913\n",
      "10 : 171.04700948739526\n",
      "15 : 41.130691232510515\n",
      "20 : 38.39140860935776\n",
      "25 : 38.042631043782265\n"
     ]
    },
    {
     "ename": "KeyboardInterrupt",
     "evalue": "",
     "output_type": "error",
     "traceback": [
      "\u001b[0;31m---------------------------------------------------------------------------\u001b[0m",
      "\u001b[0;31mKeyboardInterrupt\u001b[0m                         Traceback (most recent call last)",
      "\u001b[0;32m<ipython-input-53-36c3a8b17f6d>\u001b[0m in \u001b[0;36m<module>\u001b[0;34m()\u001b[0m\n\u001b[1;32m      9\u001b[0m     \u001b[0mm\u001b[0m \u001b[0;34m=\u001b[0m \u001b[0mcandlegp\u001b[0m\u001b[0;34m.\u001b[0m\u001b[0mmodels\u001b[0m\u001b[0;34m.\u001b[0m\u001b[0mSGPR\u001b[0m\u001b[0;34m(\u001b[0m\u001b[0mVariable\u001b[0m\u001b[0;34m(\u001b[0m\u001b[0mX\u001b[0m\u001b[0;34m)\u001b[0m\u001b[0;34m,\u001b[0m \u001b[0mVariable\u001b[0m\u001b[0;34m(\u001b[0m\u001b[0mY\u001b[0m\u001b[0;34m.\u001b[0m\u001b[0munsqueeze\u001b[0m\u001b[0;34m(\u001b[0m\u001b[0;36m1\u001b[0m\u001b[0;34m)\u001b[0m\u001b[0;34m)\u001b[0m\u001b[0;34m,\u001b[0m \u001b[0mk\u001b[0m\u001b[0;34m,\u001b[0m \u001b[0mZinit\u001b[0m\u001b[0;34m,\u001b[0m \u001b[0mmean_function\u001b[0m\u001b[0;34m=\u001b[0m\u001b[0mmean\u001b[0m\u001b[0;34m)\u001b[0m\u001b[0;34m\u001b[0m\u001b[0m\n\u001b[1;32m     10\u001b[0m     \u001b[0mm\u001b[0m\u001b[0;34m.\u001b[0m\u001b[0mlikelihood\u001b[0m\u001b[0;34m.\u001b[0m\u001b[0mvariance\u001b[0m\u001b[0;34m.\u001b[0m\u001b[0mset\u001b[0m\u001b[0;34m(\u001b[0m\u001b[0;36m0.01\u001b[0m\u001b[0;34m)\u001b[0m\u001b[0;34m\u001b[0m\u001b[0m\n\u001b[0;32m---> 11\u001b[0;31m     \u001b[0moptimize\u001b[0m\u001b[0;34m(\u001b[0m\u001b[0mm\u001b[0m\u001b[0;34m)\u001b[0m\u001b[0;34m\u001b[0m\u001b[0m\n\u001b[0m\u001b[1;32m     12\u001b[0m     \u001b[0mvfe_lml\u001b[0m\u001b[0;34m.\u001b[0m\u001b[0mappend\u001b[0m\u001b[0;34m(\u001b[0m\u001b[0;34m-\u001b[0m\u001b[0mm\u001b[0m\u001b[0;34m.\u001b[0m\u001b[0mobjective\u001b[0m\u001b[0;34m(\u001b[0m\u001b[0;34m)\u001b[0m\u001b[0;34m.\u001b[0m\u001b[0mdata\u001b[0m\u001b[0;34m[\u001b[0m\u001b[0;36m0\u001b[0m\u001b[0;34m]\u001b[0m\u001b[0;34m)\u001b[0m\u001b[0;34m\u001b[0m\u001b[0m\n\u001b[1;32m     13\u001b[0m     \u001b[0mvupper_lml\u001b[0m\u001b[0;34m.\u001b[0m\u001b[0mappend\u001b[0m\u001b[0;34m(\u001b[0m\u001b[0mm\u001b[0m\u001b[0;34m.\u001b[0m\u001b[0mcompute_upper_bound\u001b[0m\u001b[0;34m(\u001b[0m\u001b[0;34m)\u001b[0m\u001b[0;34m.\u001b[0m\u001b[0mdata\u001b[0m\u001b[0;34m[\u001b[0m\u001b[0;36m0\u001b[0m\u001b[0;34m]\u001b[0m\u001b[0;34m)\u001b[0m\u001b[0;34m\u001b[0m\u001b[0m\n",
      "\u001b[0;32m<ipython-input-52-4655bbe8507e>\u001b[0m in \u001b[0;36moptimize\u001b[0;34m(m, lr)\u001b[0m\n\u001b[1;32m     11\u001b[0m         \u001b[0mopt\u001b[0m\u001b[0;34m.\u001b[0m\u001b[0mzero_grad\u001b[0m\u001b[0;34m(\u001b[0m\u001b[0;34m)\u001b[0m\u001b[0;34m\u001b[0m\u001b[0m\n\u001b[1;32m     12\u001b[0m         \u001b[0mobj\u001b[0m\u001b[0;34m.\u001b[0m\u001b[0mbackward\u001b[0m\u001b[0;34m(\u001b[0m\u001b[0;34m)\u001b[0m\u001b[0;34m\u001b[0m\u001b[0m\n\u001b[0;32m---> 13\u001b[0;31m         \u001b[0mopt\u001b[0m\u001b[0;34m.\u001b[0m\u001b[0mstep\u001b[0m\u001b[0;34m(\u001b[0m\u001b[0meval_model\u001b[0m\u001b[0;34m)\u001b[0m\u001b[0;34m\u001b[0m\u001b[0m\n\u001b[0m\u001b[1;32m     14\u001b[0m         \u001b[0;32mif\u001b[0m \u001b[0mi\u001b[0m\u001b[0;34m%\u001b[0m\u001b[0;36m5\u001b[0m\u001b[0;34m==\u001b[0m\u001b[0;36m0\u001b[0m\u001b[0;34m:\u001b[0m\u001b[0;34m\u001b[0m\u001b[0m\n\u001b[1;32m     15\u001b[0m             \u001b[0mprint\u001b[0m\u001b[0;34m(\u001b[0m\u001b[0mi\u001b[0m\u001b[0;34m,\u001b[0m\u001b[0;34m':'\u001b[0m\u001b[0;34m,\u001b[0m\u001b[0mobj\u001b[0m\u001b[0;34m.\u001b[0m\u001b[0mdata\u001b[0m\u001b[0;34m[\u001b[0m\u001b[0;36m0\u001b[0m\u001b[0;34m]\u001b[0m\u001b[0;34m)\u001b[0m\u001b[0;34m\u001b[0m\u001b[0m\n",
      "\u001b[0;32m/usr/local/lib/python3.5/dist-packages/torch/optim/lbfgs.py\u001b[0m in \u001b[0;36mstep\u001b[0;34m(self, closure)\u001b[0m\n\u001b[1;32m    209\u001b[0m                     \u001b[0;31m# the reason we do this: in a stochastic setting,\u001b[0m\u001b[0;34m\u001b[0m\u001b[0;34m\u001b[0m\u001b[0m\n\u001b[1;32m    210\u001b[0m                     \u001b[0;31m# no use to re-evaluate that function here\u001b[0m\u001b[0;34m\u001b[0m\u001b[0;34m\u001b[0m\u001b[0m\n\u001b[0;32m--> 211\u001b[0;31m                     \u001b[0mloss\u001b[0m \u001b[0;34m=\u001b[0m \u001b[0mclosure\u001b[0m\u001b[0;34m(\u001b[0m\u001b[0;34m)\u001b[0m\u001b[0;34m.\u001b[0m\u001b[0mdata\u001b[0m\u001b[0;34m[\u001b[0m\u001b[0;36m0\u001b[0m\u001b[0;34m]\u001b[0m\u001b[0;34m\u001b[0m\u001b[0m\n\u001b[0m\u001b[1;32m    212\u001b[0m                     \u001b[0mflat_grad\u001b[0m \u001b[0;34m=\u001b[0m \u001b[0mself\u001b[0m\u001b[0;34m.\u001b[0m\u001b[0m_gather_flat_grad\u001b[0m\u001b[0;34m(\u001b[0m\u001b[0;34m)\u001b[0m\u001b[0;34m\u001b[0m\u001b[0m\n\u001b[1;32m    213\u001b[0m                     \u001b[0mabs_grad_sum\u001b[0m \u001b[0;34m=\u001b[0m \u001b[0mflat_grad\u001b[0m\u001b[0;34m.\u001b[0m\u001b[0mabs\u001b[0m\u001b[0;34m(\u001b[0m\u001b[0;34m)\u001b[0m\u001b[0;34m.\u001b[0m\u001b[0msum\u001b[0m\u001b[0;34m(\u001b[0m\u001b[0;34m)\u001b[0m\u001b[0;34m\u001b[0m\u001b[0m\n",
      "\u001b[0;32m<ipython-input-52-4655bbe8507e>\u001b[0m in \u001b[0;36meval_model\u001b[0;34m()\u001b[0m\n\u001b[1;32m      4\u001b[0m         \u001b[0mobj\u001b[0m \u001b[0;34m=\u001b[0m \u001b[0mm\u001b[0m\u001b[0;34m(\u001b[0m\u001b[0;34m)\u001b[0m\u001b[0;34m\u001b[0m\u001b[0m\n\u001b[1;32m      5\u001b[0m         \u001b[0mopt\u001b[0m\u001b[0;34m.\u001b[0m\u001b[0mzero_grad\u001b[0m\u001b[0;34m(\u001b[0m\u001b[0;34m)\u001b[0m\u001b[0;34m\u001b[0m\u001b[0m\n\u001b[0;32m----> 6\u001b[0;31m         \u001b[0mobj\u001b[0m\u001b[0;34m.\u001b[0m\u001b[0mbackward\u001b[0m\u001b[0;34m(\u001b[0m\u001b[0;34m)\u001b[0m\u001b[0;34m\u001b[0m\u001b[0m\n\u001b[0m\u001b[1;32m      7\u001b[0m         \u001b[0;32mreturn\u001b[0m \u001b[0mobj\u001b[0m\u001b[0;34m\u001b[0m\u001b[0m\n\u001b[1;32m      8\u001b[0m \u001b[0;34m\u001b[0m\u001b[0m\n",
      "\u001b[0;32m/usr/local/lib/python3.5/dist-packages/torch/autograd/variable.py\u001b[0m in \u001b[0;36mbackward\u001b[0;34m(self, gradient, retain_graph, create_graph, retain_variables)\u001b[0m\n\u001b[1;32m    156\u001b[0m                 \u001b[0mVariable\u001b[0m\u001b[0;34m.\u001b[0m\u001b[0;34m\u001b[0m\u001b[0m\n\u001b[1;32m    157\u001b[0m         \"\"\"\n\u001b[0;32m--> 158\u001b[0;31m         \u001b[0mtorch\u001b[0m\u001b[0;34m.\u001b[0m\u001b[0mautograd\u001b[0m\u001b[0;34m.\u001b[0m\u001b[0mbackward\u001b[0m\u001b[0;34m(\u001b[0m\u001b[0mself\u001b[0m\u001b[0;34m,\u001b[0m \u001b[0mgradient\u001b[0m\u001b[0;34m,\u001b[0m \u001b[0mretain_graph\u001b[0m\u001b[0;34m,\u001b[0m \u001b[0mcreate_graph\u001b[0m\u001b[0;34m,\u001b[0m \u001b[0mretain_variables\u001b[0m\u001b[0;34m)\u001b[0m\u001b[0;34m\u001b[0m\u001b[0m\n\u001b[0m\u001b[1;32m    159\u001b[0m \u001b[0;34m\u001b[0m\u001b[0m\n\u001b[1;32m    160\u001b[0m     \u001b[0;32mdef\u001b[0m \u001b[0mregister_hook\u001b[0m\u001b[0;34m(\u001b[0m\u001b[0mself\u001b[0m\u001b[0;34m,\u001b[0m \u001b[0mhook\u001b[0m\u001b[0;34m)\u001b[0m\u001b[0;34m:\u001b[0m\u001b[0;34m\u001b[0m\u001b[0m\n",
      "\u001b[0;32m/usr/local/lib/python3.5/dist-packages/torch/autograd/__init__.py\u001b[0m in \u001b[0;36mbackward\u001b[0;34m(variables, grad_variables, retain_graph, create_graph, retain_variables)\u001b[0m\n\u001b[1;32m     97\u001b[0m \u001b[0;34m\u001b[0m\u001b[0m\n\u001b[1;32m     98\u001b[0m     Variable._execution_engine.run_backward(\n\u001b[0;32m---> 99\u001b[0;31m         variables, grad_variables, retain_graph)\n\u001b[0m\u001b[1;32m    100\u001b[0m \u001b[0;34m\u001b[0m\u001b[0m\n\u001b[1;32m    101\u001b[0m \u001b[0;34m\u001b[0m\u001b[0m\n",
      "\u001b[0;31mKeyboardInterrupt\u001b[0m: "
     ]
    }
   ],
   "source": [
    "Ms = numpy.arange(4, 20, 1)\n",
    "vfe_lml = []\n",
    "vupper_lml = []\n",
    "vfe_hyps = []\n",
    "for M in Ms:\n",
    "    Zinit = X[:M, :].clone()\n",
    "    k = candlegp.kernels.RBF(1, lengthscales=torch.DoubleTensor([1.0]),variance=torch.DoubleTensor([1.0]))\n",
    "    m = candlegp.models.SGPR(Variable(X), Variable(Y.unsqueeze(1)), k, Zinit)\n",
    "    m.likelihood.variance.set(0.01)\n",
    "    optimize(m)\n",
    "    vfe_lml.append(-m.objective().data[0])\n",
    "    vupper_lml.append(m.compute_upper_bound().data[0])\n",
    "    vfe_hyps.append(m.state_dict())\n",
    "    print(\"%i\" % M, end=\" \")\n",
    "vfe_hyps = pandas.DataFrame(vfe_hyps)"
   ]
  },
  {
   "cell_type": "code",
   "execution_count": 48,
   "metadata": {
    "cell_id": "F3A7C474B189486A8EC6275A4FD44A01"
   },
   "outputs": [
    {
     "data": {
      "text/plain": [
       "<matplotlib.text.Text at 0x7fc259fda2e8>"
      ]
     },
     "execution_count": 48,
     "metadata": {},
     "output_type": "execute_result"
    },
    {
     "data": {
      "image/png": "[encoded data removed]",
      "text/plain": [
       "<matplotlib.figure.Figure at 0x7fc2583d2e10>"
      ]
     },
     "metadata": {},
     "output_type": "display_data"
    }
   ],
   "source": [
    "pyplot.plot(Ms, vfe_lml, label=\"lower\")\n",
    "pyplot.plot(Ms, vupper_lml, label=\"upper\")\n",
    "pyplot.axhline(full_lml, label=\"full\", alpha=0.3)\n",
    "pyplot.xlabel(\"Number of inducing points\")\n",
    "pyplot.ylabel(\"LML estimate\")\n",
    "pyplot.legend()\n",
    "pyplot.title(\"LML bounds for models trained with SGPR\")"
   ]
  },
  {
   "cell_type": "markdown",
   "metadata": {
    "cell_id": "74B4C726E0D844258AE7677A566D5201"
   },
   "source": [
    "We see that the lower bound increases as more inducing points are added. Note that the upper bound does _not_ monotonically decrease! This is because as we train the sparse model, we also get better estimates of the hyperparameters. The upper bound will be different for this different setting of the hyperparameters, and is sometimes looser. The upper bound also converges to the true lml slower than the lower bound."
   ]
  },
  {
   "cell_type": "markdown",
   "metadata": {
    "cell_id": "4C9B95D69C86482695E3988D785B25E4"
   },
   "source": [
    "## Upper bounds for fixed hyperparameters\n",
    "Here, we train sparse models with the hyperparameters fixed to the optimal value found previously."
   ]
  },
  {
   "cell_type": "code",
   "execution_count": 7,
   "metadata": {
    "cell_id": "9D4E217104284A46AD5B36B425CDAE12"
   },
   "outputs": [
    {
     "name": "stdout",
     "output_type": "stream",
     "text": [
      "3 4 5 6 7 8 9 10 11 12 13 14 15 16 17 18 19 "
     ]
    }
   ],
   "source": [
    "fMs = np.arange(3, 20, 1)\n",
    "fvfe_lml = []  # Fixed vfe lml\n",
    "fvupper_lml = []  # Fixed upper lml\n",
    "for M in fMs:\n",
    "    Zinit = vfe.Z.value[:M, :].copy()\n",
    "    Zinit = np.vstack((Zinit, X[np.random.permutation(len(X))[:(M - len(Zinit))], :].copy()))\n",
    "    init_params = vfe.get_parameter_dict()\n",
    "    init_params['model.Z'] = Zinit\n",
    "    vfe = gpflow.models.SGPR(X, Y, gpflow.kernels.RBF(1), Zinit)\n",
    "    vfe.set_parameter_dict(init_params)\n",
    "    vfe.kern.fixed = True\n",
    "    vfe.likelihood.fixed = True\n",
    "    vfe.optimize()\n",
    "    \n",
    "    fvfe_lml.append(-vfe._objective(vfe.get_free_state())[0])\n",
    "    fvupper_lml.append(vfe.compute_upper_bound())\n",
    "    print(\"%i\" % M, end=\" \")"
   ]
  },
  {
   "cell_type": "code",
   "execution_count": 8,
   "metadata": {
    "cell_id": "2484220DB77E469DAAB1A9EF9E7DCF5E"
   },
   "outputs": [
    {
     "data": {
      "text/plain": [
       "<matplotlib.legend.Legend at 0x13d790dd8>"
      ]
     },
     "execution_count": 8,
     "metadata": {},
     "output_type": "execute_result"
    },
    {
     "data": {
      "image/png": "[encoded data removed]",
      "text/plain": [
       "<matplotlib.figure.Figure at 0x12ee79d30>"
      ]
     },
     "metadata": {},
     "output_type": "display_data"
    }
   ],
   "source": [
    "plt.plot(fMs, fvfe_lml, label=\"lower\")\n",
    "plt.plot(fMs, fvupper_lml, label=\"upper\")\n",
    "plt.axhline(full_lml, label=\"full\", alpha=0.3)\n",
    "plt.xlabel(\"Number of inducing points\")\n",
    "plt.ylabel(\"LML estimate\")\n",
    "plt.legend()"
   ]
  },
  {
   "cell_type": "markdown",
   "metadata": {
    "cell_id": "8A47DE8889F340B59E093707137EB10B"
   },
   "source": [
    "Now, as the hyperparameters are fixed, the bound _does_ monotonically decrease. We chose the optimal hyperparameters here, but the picture should be the same for any hyperparameter setting. This shows that we increasingly get a better estimate of the marginal likelihood as we add more inducing points."
   ]
  },
  {
   "cell_type": "markdown",
   "metadata": {
    "cell_id": "E8AC227C65C347E689E0A468DED7A7AD"
   },
   "source": [
    "## A tight estimate bound does not imply a converged model"
   ]
  },
  {
   "cell_type": "code",
   "execution_count": 9,
   "metadata": {
    "cell_id": "4B51345B71F94BC59AD9D302699BF7BA"
   },
   "outputs": [
    {
     "name": "stdout",
     "output_type": "stream",
     "text": [
      "Lower bound: -62.487090\n",
      "Upper bound: -62.484641\n"
     ]
    }
   ],
   "source": [
    "vfe = gpflow.models.SGPR(X, Y, gpflow.kernels.RBF(1), X[None, 0, :].copy())\n",
    "vfe.optimize()\n",
    "print(\"Lower bound: %f\" % -vfe._objective(vfe.get_free_state())[0])\n",
    "print(\"Upper bound: %f\" % vfe.compute_upper_bound())"
   ]
  },
  {
   "cell_type": "markdown",
   "metadata": {
    "cell_id": "C297F0C86B314C28A37E453391A8B056"
   },
   "source": [
    "In this case we show that for the hyperparameter setting, the bound is very tight. However, this does _not_ imply that we have enough inducing points, but simply that we have correctly identified the marginal likelihood for this particular hyperparameter setting. In this specific case, where we used a single inducing point, the model collapses to not using the GP at all (lengthscale is really long to model only the mean). The rest of the variance is explained by noise. This GP can be perfectly approximated with a single inducing point."
   ]
  },
  {
   "cell_type": "code",
   "execution_count": 10,
   "metadata": {
    "cell_id": "5D9A7EB9AE9A413CBCA853175037E416"
   },
   "outputs": [
    {
     "data": {
      "text/html": [
       "<table id='params' width=100%><tr><td>Name</td><td>values</td><td>prior</td><td>constraint</td></tr><tr><td>model.Z</td><td>[[ 2.65740921]]</td><td>None</td><td>(none)</td></tr><tr><td>model.kern.lengthscales</td><td>[ 1014.38504695]</td><td>None</td><td>+ve</td></tr><tr><td>model.kern.variance</td><td>[ 0.10775259]</td><td>None</td><td>+ve</td></tr><tr><td>model.likelihood.variance</td><td>[ 0.68243197]</td><td>None</td><td>+ve</td></tr></table>"
      ],
      "text/plain": [
       "<gpflow.models.SGPR at 0x13d8a3c18>"
      ]
     },
     "execution_count": 10,
     "metadata": {},
     "output_type": "execute_result"
    }
   ],
   "source": [
    "vfe"
   ]
  },
  {
   "cell_type": "markdown",
   "metadata": {
    "cell_id": "0A8FE272806843DE873C6B13D7B15159"
   },
   "source": [
    "This can be diagnosed by showing that there are other hyperparameter settings with higher upper bounds. This indicates that there may be better hyperparameter settings, but we cannot identify them due to the lack of inducing points. An example of this can be seen in the previous section."
   ]
  },
  {
   "cell_type": "code",
   "execution_count": null,
   "metadata": {
    "cell_id": "AA75F769F3C64D1A813CBE5E7F3E2375",
    "collapsed": true
   },
   "outputs": [],
   "source": []
  }
 ],
 "metadata": {
  "kernelspec": {
   "display_name": "Python 3",
   "language": "python",
   "name": "python3"
  },
  "language_info": {
   "codemirror_mode": {
    "name": "ipython",
    "version": 3
   },
   "file_extension": ".py",
   "mimetype": "text/x-python",
   "name": "python",
   "nbconvert_exporter": "python",
   "pygments_lexer": "ipython3",
   "version": "3.5.3"
  }
 },
 "nbformat": 4,
 "nbformat_minor": 1
}
