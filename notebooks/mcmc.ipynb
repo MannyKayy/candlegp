{
 "cells": [
  {
   "cell_type": "markdown",
   "metadata": {
    "cell_id": "60999B877FB04A348964DC63A3B89460"
   },
   "source": [
    "# Fully Bayesian inference for generalized GP models with HMC\n",
    "\n",
    "*James Hensman, 2015-16*\n",
    "\n",
    "Converted to candlegp *Thomas Viehmann*\n",
    "\n",
    "It's possible to construct a very flexible models with Gaussian processes by combining them with different likelihoods (sometimes called 'families' in the GLM literature). This makes inference of the GP intractable since the likelihoods is not generally conjugate to the Gaussian process. The general form of the model is \n",
    "$$\\theta \\sim p(\\theta)\\\\f \\sim \\mathcal {GP}(m(x; \\theta),\\, k(x, x'; \\theta))\\\\y_i \\sim p(y | g(f(x_i))\\,.$$\n",
    "\n",
    "\n",
    "To perform inference in this model, we'll run MCMC using Hamiltonian Monte Carlo (HMC) over the function-values and the parameters $\\theta$ jointly. Key to an effective scheme is rotation of the field using the Cholesky decomposition. We write\n",
    "\n",
    "$$\\theta \\sim p(\\theta)\\\\v \\sim \\mathcal {N}(0,\\, I)\\\\LL^\\top = K\\\\f = m + Lv\\\\y_i \\sim p(y | g(f(x_i))\\,.$$\n",
    "\n",
    "Joint HMC over v and the function values is not widely adopted in the literature becate of the difficulty in differentiating $LL^\\top=K$. We've made this derivative available in tensorflow, and so application of HMC is relatively straightforward. "
   ]
  },
  {
   "cell_type": "markdown",
   "metadata": {
    "cell_id": "CD79F257C3AB4A1694B310D895F75A17"
   },
   "source": [
    "### Exponential Regression example\n",
    "The first illustration in this notebook is 'Exponential Regression'. The model is \n",
    "$$\\theta \\sim p(\\theta)\\\\f \\sim \\mathcal {GP}(0, k(x, x'; \\theta))\\\\f_i = f(x_i)\\\\y_i \\sim \\mathcal {Exp} (e^{f_i})$$\n",
    "\n",
    "We'll use MCMC to deal with both the kernel parameters $\\theta$ and the latent function values $f$. first, generate a data set."
   ]
  },
  {
   "cell_type": "code",
   "execution_count": 1,
   "metadata": {
    "cell_id": "B0EFB17161DC4E7E84087F2B99D12E7D"
   },
   "outputs": [],
   "source": [
    "import sys, os\n",
    "sys.path.append(os.path.join(os.getcwd(),'..'))\n",
    "\n",
    "import candlegp\n",
    "import candlegp.training.hmc\n",
    "import numpy\n",
    "import torch\n",
    "from torch.autograd import Variable\n",
    "from matplotlib import pyplot\n",
    "pyplot.style.use('ggplot')\n",
    "%matplotlib inline\n",
    "\n",
    "\n",
    "X = Variable(torch.linspace(-3,3,20,out=torch.DoubleTensor()))\n",
    "Y = Variable(torch.from_numpy(numpy.random.exponential(((X.data.sin())**2).numpy())))"
   ]
  },
  {
   "cell_type": "markdown",
   "metadata": {
    "cell_id": "0D7ADCE6053048AA9B0FF69D4A9C70D9"
   },
   "source": [
    "GPflow's model for fully-Bayesian MCMC is called GPMC. It's constructed like any other model, but contains a parameter `V` which represents the centered values of the function. "
   ]
  },
  {
   "cell_type": "code",
   "execution_count": 2,
   "metadata": {
    "cell_id": "6442FD69F2E8481D8F4DE557744228D7",
    "scrolled": false
   },
   "outputs": [
    {
     "data": {
      "text/html": [
       "Model GPMC<ul><li>mean_function: Zero</li><li>kern: Add</li><li>likelihood: Exponential</li></ul><table><tr><th>Parameter</th><th>Value</th><th>Prior</th><th>ParamType</th></tr><tr><td>V</td><td>[[ 0.]\n",
       " [ 0.]\n",
       " [ 0.]\n",
       " [ 0.]\n",
       " [ 0.]\n",
       " [ 0.]\n",
       " [ 0.]\n",
       " [ 0.]\n",
       " [ 0.]\n",
       " [ 0.]\n",
       " [ 0.]\n",
       " [ 0.]\n",
       " [ 0.]\n",
       " [ 0.]\n",
       " [ 0.]\n",
       " [ 0.]\n",
       " [ 0.]\n",
       " [ 0.]\n",
       " [ 0.]\n",
       " [ 0.]]</td><td>N([ 0.],[ 1.])</td><td>Param</td></tr><tr><td>kern.kern_list.0.variance</td><td>[ 0.99999996]</td><td>None</td><td>PositiveParam</td></tr><tr><td>kern.kern_list.0.lengthscales</td><td>[ 0.99999996]</td><td>None</td><td>PositiveParam</td></tr><tr><td>kern.kern_list.1.variance</td><td>[ 0.99999996]</td><td>None</td><td>PositiveParam</td></tr></table>"
      ],
      "text/plain": [
       "GPMC(\n",
       "  (mean_function): Zero(\n",
       "  )\n",
       "  (kern): Add(\n",
       "    (kern_list): ModuleList(\n",
       "      (0): Matern32(\n",
       "      )\n",
       "      (1): Bias(\n",
       "      )\n",
       "    )\n",
       "  )\n",
       "  (likelihood): Exponential(\n",
       "  )\n",
       ")"
      ]
     },
     "execution_count": 2,
     "metadata": {},
     "output_type": "execute_result"
    }
   ],
   "source": [
    "#build the model\n",
    "k = candlegp.kernels.Matern32(1,ARD=False).double() + candlegp.kernels.Bias(1).double()\n",
    "l = candlegp.likelihoods.Exponential()\n",
    "m = candlegp.models.GPMC(X[:,None], Y[:,None], k, l)\n",
    "m"
   ]
  },
  {
   "cell_type": "markdown",
   "metadata": {
    "cell_id": "13A872266B474EF49C839B8D3AFDE730"
   },
   "source": [
    "The `V` parameter already has a prior applied. We'll add priors to the parameters also (these are rather arbitrary, for illustration). "
   ]
  },
  {
   "cell_type": "code",
   "execution_count": 3,
   "metadata": {
    "cell_id": "8E41B7B549F045E989F0EA0FA25CC690"
   },
   "outputs": [
    {
     "data": {
      "text/html": [
       "Model GPMC<ul><li>mean_function: Zero</li><li>kern: Add</li><li>likelihood: Exponential</li></ul><table><tr><th>Parameter</th><th>Value</th><th>Prior</th><th>ParamType</th></tr><tr><td>V</td><td>[[ 0.]\n",
       " [ 0.]\n",
       " [ 0.]\n",
       " [ 0.]\n",
       " [ 0.]\n",
       " [ 0.]\n",
       " [ 0.]\n",
       " [ 0.]\n",
       " [ 0.]\n",
       " [ 0.]\n",
       " [ 0.]\n",
       " [ 0.]\n",
       " [ 0.]\n",
       " [ 0.]\n",
       " [ 0.]\n",
       " [ 0.]\n",
       " [ 0.]\n",
       " [ 0.]\n",
       " [ 0.]\n",
       " [ 0.]]</td><td>N([ 0.],[ 1.])</td><td>Param</td></tr><tr><td>kern.kern_list.0.variance</td><td>[ 0.99999996]</td><td>Ga([ 1.],[ 1.])</td><td>PositiveParam</td></tr><tr><td>kern.kern_list.0.lengthscales</td><td>[ 0.99999996]</td><td>Ga([ 1.],[ 1.])</td><td>PositiveParam</td></tr><tr><td>kern.kern_list.1.variance</td><td>[ 0.99999996]</td><td>Ga([ 1.],[ 1.])</td><td>PositiveParam</td></tr></table>"
      ],
      "text/plain": [
       "GPMC(\n",
       "  (mean_function): Zero(\n",
       "  )\n",
       "  (kern): Add(\n",
       "    (kern_list): ModuleList(\n",
       "      (0): Matern32(\n",
       "      )\n",
       "      (1): Bias(\n",
       "      )\n",
       "    )\n",
       "  )\n",
       "  (likelihood): Exponential(\n",
       "  )\n",
       ")"
      ]
     },
     "execution_count": 3,
     "metadata": {},
     "output_type": "execute_result"
    }
   ],
   "source": [
    "m.kern.kern_list[0].lengthscales.prior = candlegp.priors.Gamma(1., 1., ttype=torch.DoubleTensor)\n",
    "m.kern.kern_list[0].variance.prior = candlegp.priors.Gamma(1.,1., ttype=torch.DoubleTensor)\n",
    "m.kern.kern_list[1].variance.prior = candlegp.priors.Gamma(1.,1., ttype=torch.DoubleTensor)\n",
    "m.V.prior = candlegp.priors.Gaussian(0.,1., ttype=torch.DoubleTensor)\n",
    "m"
   ]
  },
  {
   "cell_type": "markdown",
   "metadata": {
    "cell_id": "751FB374D852409D89C7F9C9A7103C70"
   },
   "source": [
    "Running HMC is as easy as hitting m.sample(). GPflow only has HMC sampling for the moment, and it's a relatively vanilla implementation (no NUTS, for example). There are two setting to tune, the step size (epsilon) and the maximum noumber of steps Lmax. Each proposal will take a random number of steps between 1 and Lmax, each of length epsilon. \n",
    "\n",
    "We'll use the `verbose` setting so that we can see the acceptance rate."
   ]
  },
  {
   "cell_type": "code",
   "execution_count": 4,
   "metadata": {
    "cell_id": "A656A10091E04FD08641ED16E8E64A28"
   },
   "outputs": [
    {
     "name": "stdout",
     "output_type": "stream",
     "text": [
      "0 : 33.20290796311981\n",
      "5 : 18.804564032305457\n",
      "10 : 18.529321293602706\n",
      "15 : 18.524561421348164\n",
      "20 : 18.524500359469663\n",
      "25 : 18.524499677457708\n",
      "30 : 18.524499672925263\n",
      "35 : 18.52449966883608\n",
      "40 : 18.524499665145953\n",
      "45 : 18.52449966181525\n"
     ]
    },
    {
     "data": {
      "text/html": [
       "Model GPMC<ul><li>mean_function: Zero</li><li>kern: Add</li><li>likelihood: Exponential</li></ul><table><tr><th>Parameter</th><th>Value</th><th>Prior</th><th>ParamType</th></tr><tr><td>V</td><td>[[-1.61749809]\n",
       " [ 0.34986766]\n",
       " [-0.02498693]\n",
       " [ 0.1165383 ]\n",
       " [ 0.02207061]\n",
       " [-0.37660916]\n",
       " [ 0.30911287]\n",
       " [ 0.00880969]\n",
       " [ 0.06671744]\n",
       " [-1.76505569]\n",
       " [-1.09461399]\n",
       " [-0.53732903]\n",
       " [-0.15809413]\n",
       " [ 0.76206626]\n",
       " [ 0.20539926]\n",
       " [ 0.2577983 ]\n",
       " [ 0.39141682]\n",
       " [ 0.15790499]\n",
       " [-1.53400723]\n",
       " [-0.67216243]]</td><td>N([ 0.],[ 1.])</td><td>Param</td></tr><tr><td>kern.kern_list.0.variance</td><td>[ 5.02886942]</td><td>Ga([ 1.],[ 1.])</td><td>PositiveParam</td></tr><tr><td>kern.kern_list.0.lengthscales</td><td>[ 0.26762887]</td><td>Ga([ 1.],[ 1.])</td><td>PositiveParam</td></tr><tr><td>kern.kern_list.1.variance</td><td>[ 1.17601739]</td><td>Ga([ 1.],[ 1.])</td><td>PositiveParam</td></tr></table>"
      ],
      "text/plain": [
       "GPMC(\n",
       "  (mean_function): Zero(\n",
       "  )\n",
       "  (kern): Add(\n",
       "    (kern_list): ModuleList(\n",
       "      (0): Matern32(\n",
       "      )\n",
       "      (1): Bias(\n",
       "      )\n",
       "    )\n",
       "  )\n",
       "  (likelihood): Exponential(\n",
       "  )\n",
       ")"
      ]
     },
     "execution_count": 4,
     "metadata": {},
     "output_type": "execute_result"
    }
   ],
   "source": [
    "# start near MAP\n",
    "opt = torch.optim.LBFGS(m.parameters(), lr=1e-2, max_iter=40)\n",
    "def eval_model():\n",
    "    obj = m()\n",
    "    opt.zero_grad()\n",
    "    obj.backward()\n",
    "    return obj\n",
    "\n",
    "for i in range(50):\n",
    "    obj = m()\n",
    "    opt.zero_grad()\n",
    "    obj.backward()\n",
    "    opt.step(eval_model)\n",
    "    if i%5==0:\n",
    "        print(i,':',obj.data[0])\n",
    "m\n"
   ]
  },
  {
   "cell_type": "code",
   "execution_count": 5,
   "metadata": {
    "cell_id": "7160966566F94A1180E67A1E4BC58063",
    "scrolled": true
   },
   "outputs": [],
   "source": [
    "res = candlegp.training.hmc.hmc_sample(m,500,0.2,burn=50, thin=10)"
   ]
  },
  {
   "cell_type": "code",
   "execution_count": 6,
   "metadata": {
    "cell_id": "B85E4F657D7D4CECB75280DB195127C8"
   },
   "outputs": [],
   "source": [
    "xtest = torch.linspace(-4,4,100).double().unsqueeze(1)\n",
    "\n",
    "f_samples = []\n",
    "for i in range(len(res[0])):\n",
    "    for j,mp in enumerate(m.parameters()):\n",
    "        mp.set(res[j+1][i])\n",
    "    f_samples.append(m.predict_f_samples(Variable(xtest), 5).squeeze(0).t())\n",
    "f_samples = torch.cat(f_samples, dim=0)\n"
   ]
  },
  {
   "cell_type": "code",
   "execution_count": 7,
   "metadata": {
    "cell_id": "F3F0B3A5BBAA4EBB8C11DB0DC9B0CD3D"
   },
   "outputs": [
    {
     "data": {
      "text/plain": [
       "(-0.1, 3.3576400854995505)"
      ]
     },
     "execution_count": 7,
     "metadata": {},
     "output_type": "execute_result"
    },
    {
     "data": {
      "image/png": "[encoded data removed]",
      "text/plain": [
       "<matplotlib.figure.Figure at 0x7fbc5a749f98>"
      ]
     },
     "metadata": {},
     "output_type": "display_data"
    }
   ],
   "source": [
    "rate_samples = torch.exp(f_samples)\n",
    "pyplot.figure(figsize=(12, 6))\n",
    "line, = pyplot.plot(xtest.numpy(), rate_samples.data.mean(0).numpy(), lw=2)\n",
    "pyplot.fill_between(xtest[:,0], numpy.percentile(rate_samples.data.numpy(), 5, axis=0), numpy.percentile(rate_samples.data.numpy(), 95, axis=0), color=line.get_color(), alpha = 0.2)\n",
    "pyplot.plot(X.data.numpy(), Y.data.numpy(), 'kx', mew=2)\n",
    "pyplot.ylim(-0.1, numpy.max(numpy.percentile(rate_samples.data.numpy(), 95, axis=0)))"
   ]
  },
  {
   "cell_type": "code",
   "execution_count": 8,
   "metadata": {
    "cell_id": "3E50312630C74397AFD21C0672D58368"
   },
   "outputs": [
    {
     "data": {
      "text/html": [
       "<div>\n",
       "<table border=\"1\" class=\"dataframe\">\n",
       "  <thead>\n",
       "    <tr style=\"text-align: right;\">\n",
       "      <th></th>\n",
       "      <th>V</th>\n",
       "      <th>kern.kern_list.0.variance</th>\n",
       "      <th>kern.kern_list.0.lengthscales</th>\n",
       "      <th>kern.kern_list.1.variance</th>\n",
       "    </tr>\n",
       "  </thead>\n",
       "  <tbody>\n",
       "    <tr>\n",
       "      <th>0</th>\n",
       "      <td>[[-2.040155871891981], [0.9388838196088715], [...</td>\n",
       "      <td>[1.4656632505723997]</td>\n",
       "      <td>[0.5331493725973833]</td>\n",
       "      <td>[1.2720246353326516]</td>\n",
       "    </tr>\n",
       "    <tr>\n",
       "      <th>1</th>\n",
       "      <td>[[-1.0105412162684417], [0.8922529168790496], ...</td>\n",
       "      <td>[1.5030910411906926]</td>\n",
       "      <td>[0.4190117485184786]</td>\n",
       "      <td>[1.2395359477008205]</td>\n",
       "    </tr>\n",
       "    <tr>\n",
       "      <th>2</th>\n",
       "      <td>[[-0.7659962943215035], [1.1215123272342724], ...</td>\n",
       "      <td>[2.0087159386859397]</td>\n",
       "      <td>[0.27011072860821894]</td>\n",
       "      <td>[0.8621121645070724]</td>\n",
       "    </tr>\n",
       "    <tr>\n",
       "      <th>3</th>\n",
       "      <td>[[-1.1814209596914074], [0.9161368443606671], ...</td>\n",
       "      <td>[2.2793792765118304]</td>\n",
       "      <td>[0.4178933556883257]</td>\n",
       "      <td>[1.2438263168137242]</td>\n",
       "    </tr>\n",
       "    <tr>\n",
       "      <th>4</th>\n",
       "      <td>[[-0.34081414734626486], [-0.18600869595089276...</td>\n",
       "      <td>[2.2571109603914907]</td>\n",
       "      <td>[0.31695334735188196]</td>\n",
       "      <td>[2.68133348675961]</td>\n",
       "    </tr>\n",
       "    <tr>\n",
       "      <th>5</th>\n",
       "      <td>[[-1.2073783357318857], [1.0428120464456387], ...</td>\n",
       "      <td>[0.74519066940624]</td>\n",
       "      <td>[0.5921438188336057]</td>\n",
       "      <td>[1.6638535187996304]</td>\n",
       "    </tr>\n",
       "    <tr>\n",
       "      <th>6</th>\n",
       "      <td>[[-1.6524716993333135], [0.8764631812364198], ...</td>\n",
       "      <td>[1.3404237928157525]</td>\n",
       "      <td>[0.4241448934651531]</td>\n",
       "      <td>[1.024398703348455]</td>\n",
       "    </tr>\n",
       "    <tr>\n",
       "      <th>7</th>\n",
       "      <td>[[-2.143367120525573], [1.1482953781923688], [...</td>\n",
       "      <td>[0.9825708450923527]</td>\n",
       "      <td>[0.9594493236660923]</td>\n",
       "      <td>[0.619018694545985]</td>\n",
       "    </tr>\n",
       "    <tr>\n",
       "      <th>8</th>\n",
       "      <td>[[-1.4953113561783533], [1.5729702888894197], ...</td>\n",
       "      <td>[0.3555684618930405]</td>\n",
       "      <td>[0.7719114194548434]</td>\n",
       "      <td>[0.7551095943341086]</td>\n",
       "    </tr>\n",
       "    <tr>\n",
       "      <th>9</th>\n",
       "      <td>[[-1.268132328731606], [1.2909669423055232], [...</td>\n",
       "      <td>[0.23275385813306335]</td>\n",
       "      <td>[1.464791372243463]</td>\n",
       "      <td>[1.1758487570645073]</td>\n",
       "    </tr>\n",
       "  </tbody>\n",
       "</table>\n",
       "</div>"
      ],
      "text/plain": [
       "                                                   V  \\\n",
       "0  [[-2.040155871891981], [0.9388838196088715], [...   \n",
       "1  [[-1.0105412162684417], [0.8922529168790496], ...   \n",
       "2  [[-0.7659962943215035], [1.1215123272342724], ...   \n",
       "3  [[-1.1814209596914074], [0.9161368443606671], ...   \n",
       "4  [[-0.34081414734626486], [-0.18600869595089276...   \n",
       "5  [[-1.2073783357318857], [1.0428120464456387], ...   \n",
       "6  [[-1.6524716993333135], [0.8764631812364198], ...   \n",
       "7  [[-2.143367120525573], [1.1482953781923688], [...   \n",
       "8  [[-1.4953113561783533], [1.5729702888894197], ...   \n",
       "9  [[-1.268132328731606], [1.2909669423055232], [...   \n",
       "\n",
       "  kern.kern_list.0.variance kern.kern_list.0.lengthscales  \\\n",
       "0      [1.4656632505723997]          [0.5331493725973833]   \n",
       "1      [1.5030910411906926]          [0.4190117485184786]   \n",
       "2      [2.0087159386859397]         [0.27011072860821894]   \n",
       "3      [2.2793792765118304]          [0.4178933556883257]   \n",
       "4      [2.2571109603914907]         [0.31695334735188196]   \n",
       "5        [0.74519066940624]          [0.5921438188336057]   \n",
       "6      [1.3404237928157525]          [0.4241448934651531]   \n",
       "7      [0.9825708450923527]          [0.9594493236660923]   \n",
       "8      [0.3555684618930405]          [0.7719114194548434]   \n",
       "9     [0.23275385813306335]           [1.464791372243463]   \n",
       "\n",
       "  kern.kern_list.1.variance  \n",
       "0      [1.2720246353326516]  \n",
       "1      [1.2395359477008205]  \n",
       "2      [0.8621121645070724]  \n",
       "3      [1.2438263168137242]  \n",
       "4        [2.68133348675961]  \n",
       "5      [1.6638535187996304]  \n",
       "6       [1.024398703348455]  \n",
       "7       [0.619018694545985]  \n",
       "8      [0.7551095943341086]  \n",
       "9      [1.1758487570645073]  "
      ]
     },
     "execution_count": 8,
     "metadata": {},
     "output_type": "execute_result"
    }
   ],
   "source": [
    "import pandas\n",
    "df = pandas.DataFrame(res[1:],index=[n for n,p in m.named_parameters()]).transpose()\n",
    "df[:10]"
   ]
  },
  {
   "cell_type": "code",
   "execution_count": 9,
   "metadata": {
    "cell_id": "4E57DE6B13CF4EEFAF6FC03F222C89BD"
   },
   "outputs": [
    {
     "data": {
      "text/plain": [
       "<matplotlib.axes._subplots.AxesSubplot at 0x7fbc48c3b198>"
      ]
     },
     "execution_count": 9,
     "metadata": {},
     "output_type": "execute_result"
    },
    {
     "data": {
      "image/png": "[encoded data removed]",
      "text/plain": [
       "<matplotlib.figure.Figure at 0x7fbcb8418400>"
      ]
     },
     "metadata": {},
     "output_type": "display_data"
    }
   ],
   "source": [
    "df[\"kern.kern_list.1.variance\"].apply(lambda x: x[0]).hist(bins=20)"
   ]
  },
  {
   "cell_type": "code",
   "execution_count": null,
   "metadata": {
    "cell_id": "3B2793145C1C40849832BC817DE0A1BD"
   },
   "outputs": [],
   "source": []
  }
 ],
 "metadata": {
  "anaconda-cloud": {},
  "kernelspec": {
   "display_name": "Python 3",
   "language": "python",
   "name": "python3"
  },
  "language_info": {
   "codemirror_mode": {
    "name": "ipython",
    "version": 3
   },
   "file_extension": ".py",
   "mimetype": "text/x-python",
   "name": "python",
   "nbconvert_exporter": "python",
   "pygments_lexer": "ipython3",
   "version": "3.5.3"
  }
 },
 "nbformat": 4,
 "nbformat_minor": 1
}
