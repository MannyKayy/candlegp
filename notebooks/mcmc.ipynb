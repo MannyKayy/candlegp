{
 "cells": [
  {
   "cell_type": "markdown",
   "metadata": {
    "cell_id": "60999B877FB04A348964DC63A3B89460"
   },
   "source": [
    "# Fully Bayesian inference for generalized GP models with HMC\n",
    "\n",
    "*James Hensman, 2015-16*\n",
    "\n",
    "Converted to candlegp *Thomas Viehmann*\n",
    "\n",
    "It's possible to construct a very flexible models with Gaussian processes by combining them with different likelihoods (sometimes called 'families' in the GLM literature). This makes inference of the GP intractable since the likelihoods is not generally conjugate to the Gaussian process. The general form of the model is \n",
    "$$\\theta \\sim p(\\theta)\\\\f \\sim \\mathcal {GP}(m(x; \\theta),\\, k(x, x'; \\theta))\\\\y_i \\sim p(y | g(f(x_i))\\,.$$\n",
    "\n",
    "\n",
    "To perform inference in this model, we'll run MCMC using Hamiltonian Monte Carlo (HMC) over the function-values and the parameters $\\theta$ jointly. Key to an effective scheme is rotation of the field using the Cholesky decomposition. We write\n",
    "\n",
    "$$\\theta \\sim p(\\theta)\\\\v \\sim \\mathcal {N}(0,\\, I)\\\\LL^\\top = K\\\\f = m + Lv\\\\y_i \\sim p(y | g(f(x_i))\\,.$$\n",
    "\n",
    "Joint HMC over v and the function values is not widely adopted in the literature becate of the difficulty in differentiating $LL^\\top=K$. We've made this derivative available in tensorflow, and so application of HMC is relatively straightforward. "
   ]
  },
  {
   "cell_type": "markdown",
   "metadata": {
    "cell_id": "CD79F257C3AB4A1694B310D895F75A17"
   },
   "source": [
    "### Exponential Regression example\n",
    "The first illustration in this notebook is 'Exponential Regression'. The model is \n",
    "$$\\theta \\sim p(\\theta)\\\\f \\sim \\mathcal {GP}(0, k(x, x'; \\theta))\\\\f_i = f(x_i)\\\\y_i \\sim \\mathcal {Exp} (e^{f_i})$$\n",
    "\n",
    "We'll use MCMC to deal with both the kernel parameters $\\theta$ and the latent function values $f$. first, generate a data set."
   ]
  },
  {
   "cell_type": "code",
   "execution_count": 1,
   "metadata": {
    "cell_id": "B0EFB17161DC4E7E84087F2B99D12E7D"
   },
   "outputs": [],
   "source": [
    "import sys, os\n",
    "sys.path.append(os.path.join(os.getcwd(),'..'))\n",
    "\n",
    "import candlegp\n",
    "import candlegp.training.hmc\n",
    "import numpy\n",
    "import torch\n",
    "from torch.autograd import Variable\n",
    "from matplotlib import pyplot\n",
    "pyplot.style.use('ggplot')\n",
    "%matplotlib inline\n",
    "\n",
    "\n",
    "X = Variable(torch.linspace(-3,3,20,out=torch.DoubleTensor()))\n",
    "Y = Variable(torch.from_numpy(numpy.random.exponential(((X.data.sin())**2).numpy())))"
   ]
  },
  {
   "cell_type": "markdown",
   "metadata": {
    "cell_id": "0D7ADCE6053048AA9B0FF69D4A9C70D9"
   },
   "source": [
    "GPflow's model for fully-Bayesian MCMC is called GPMC. It's constructed like any other model, but contains a parameter `V` which represents the centered values of the function. "
   ]
  },
  {
   "cell_type": "code",
   "execution_count": 2,
   "metadata": {
    "cell_id": "6442FD69F2E8481D8F4DE557744228D7",
    "scrolled": false
   },
   "outputs": [
    {
     "data": {
      "text/html": [
       "Model GPMC<ul><li>mean_function: Zero</li><li>kern: Add</li><li>likelihood: Exponential</li></ul><table><tr><th>Parameter</th><th>Value</th><th>Prior</th><th>ParamType</th></tr><tr><td>V</td><td>[[ 0.]\n",
       " [ 0.]\n",
       " [ 0.]\n",
       " [ 0.]\n",
       " [ 0.]\n",
       " [ 0.]\n",
       " [ 0.]\n",
       " [ 0.]\n",
       " [ 0.]\n",
       " [ 0.]\n",
       " [ 0.]\n",
       " [ 0.]\n",
       " [ 0.]\n",
       " [ 0.]\n",
       " [ 0.]\n",
       " [ 0.]\n",
       " [ 0.]\n",
       " [ 0.]\n",
       " [ 0.]\n",
       " [ 0.]]</td><td>N([ 0.],[ 1.])</td><td>Param</td></tr><tr><td>kern.kern_list.0.variance</td><td>[ 0.99999996]</td><td>None</td><td>PositiveParam</td></tr><tr><td>kern.kern_list.0.lengthscales</td><td>[ 0.99999996]</td><td>None</td><td>PositiveParam</td></tr><tr><td>kern.kern_list.1.variance</td><td>[ 0.99999996]</td><td>None</td><td>PositiveParam</td></tr></table>"
      ],
      "text/plain": [
       "GPMC(\n",
       "  (mean_function): Zero(\n",
       "  )\n",
       "  (kern): Add(\n",
       "    (kern_list): ModuleList(\n",
       "      (0): Matern32(\n",
       "      )\n",
       "      (1): Bias(\n",
       "      )\n",
       "    )\n",
       "  )\n",
       "  (likelihood): Exponential(\n",
       "  )\n",
       ")"
      ]
     },
     "execution_count": 2,
     "metadata": {},
     "output_type": "execute_result"
    }
   ],
   "source": [
    "#build the model\n",
    "k = candlegp.kernels.Matern32(1,ARD=False).double() + candlegp.kernels.Bias(1).double()\n",
    "l = candlegp.likelihoods.Exponential()\n",
    "m = candlegp.models.GPMC(X[:,None], Y[:,None], k, l)\n",
    "m"
   ]
  },
  {
   "cell_type": "markdown",
   "metadata": {
    "cell_id": "13A872266B474EF49C839B8D3AFDE730"
   },
   "source": [
    "The `V` parameter already has a prior applied. We'll add priors to the parameters also (these are rather arbitrary, for illustration). "
   ]
  },
  {
   "cell_type": "code",
   "execution_count": 3,
   "metadata": {
    "cell_id": "8E41B7B549F045E989F0EA0FA25CC690"
   },
   "outputs": [
    {
     "data": {
      "text/html": [
       "Model GPMC<ul><li>mean_function: Zero</li><li>kern: Add</li><li>likelihood: Exponential</li></ul><table><tr><th>Parameter</th><th>Value</th><th>Prior</th><th>ParamType</th></tr><tr><td>V</td><td>[[ 0.]\n",
       " [ 0.]\n",
       " [ 0.]\n",
       " [ 0.]\n",
       " [ 0.]\n",
       " [ 0.]\n",
       " [ 0.]\n",
       " [ 0.]\n",
       " [ 0.]\n",
       " [ 0.]\n",
       " [ 0.]\n",
       " [ 0.]\n",
       " [ 0.]\n",
       " [ 0.]\n",
       " [ 0.]\n",
       " [ 0.]\n",
       " [ 0.]\n",
       " [ 0.]\n",
       " [ 0.]\n",
       " [ 0.]]</td><td>N([ 0.],[ 1.])</td><td>Param</td></tr><tr><td>kern.kern_list.0.variance</td><td>[ 0.99999996]</td><td>Ga([ 1.],[ 1.])</td><td>PositiveParam</td></tr><tr><td>kern.kern_list.0.lengthscales</td><td>[ 0.99999996]</td><td>Ga([ 1.],[ 1.])</td><td>PositiveParam</td></tr><tr><td>kern.kern_list.1.variance</td><td>[ 0.99999996]</td><td>Ga([ 1.],[ 1.])</td><td>PositiveParam</td></tr></table>"
      ],
      "text/plain": [
       "GPMC(\n",
       "  (mean_function): Zero(\n",
       "  )\n",
       "  (kern): Add(\n",
       "    (kern_list): ModuleList(\n",
       "      (0): Matern32(\n",
       "      )\n",
       "      (1): Bias(\n",
       "      )\n",
       "    )\n",
       "  )\n",
       "  (likelihood): Exponential(\n",
       "  )\n",
       ")"
      ]
     },
     "execution_count": 3,
     "metadata": {},
     "output_type": "execute_result"
    }
   ],
   "source": [
    "m.kern.kern_list[0].lengthscales.prior = candlegp.priors.Gamma(1., 1., ttype=torch.DoubleTensor)\n",
    "m.kern.kern_list[0].variance.prior = candlegp.priors.Gamma(1.,1., ttype=torch.DoubleTensor)\n",
    "m.kern.kern_list[1].variance.prior = candlegp.priors.Gamma(1.,1., ttype=torch.DoubleTensor)\n",
    "m.V.prior = candlegp.priors.Gaussian(0.,1., ttype=torch.DoubleTensor)\n",
    "m"
   ]
  },
  {
   "cell_type": "markdown",
   "metadata": {
    "cell_id": "751FB374D852409D89C7F9C9A7103C70"
   },
   "source": [
    "Running HMC is as easy as hitting m.sample(). GPflow only has HMC sampling for the moment, and it's a relatively vanilla implementation (no NUTS, for example). There are two setting to tune, the step size (epsilon) and the maximum noumber of steps Lmax. Each proposal will take a random number of steps between 1 and Lmax, each of length epsilon. \n",
    "\n",
    "We'll use the `verbose` setting so that we can see the acceptance rate."
   ]
  },
  {
   "cell_type": "code",
   "execution_count": 4,
   "metadata": {
    "cell_id": "A656A10091E04FD08641ED16E8E64A28"
   },
   "outputs": [
    {
     "name": "stdout",
     "output_type": "stream",
     "text": [
      "0 : 32.13378511489978\n",
      "5 : 12.579152806043249\n",
      "10 : 12.35091339422903\n",
      "15 : 12.347333683446855\n",
      "20 : 12.34728386831572\n",
      "25 : 12.347283258834006\n",
      "30 : 12.347283254309534\n",
      "35 : 12.347283250227553\n",
      "40 : 12.34728324654416\n",
      "45 : 12.34728324321992\n"
     ]
    },
    {
     "data": {
      "text/html": [
       "Model GPMC<ul><li>mean_function: Zero</li><li>kern: Add</li><li>likelihood: Exponential</li></ul><table><tr><th>Parameter</th><th>Value</th><th>Prior</th><th>ParamType</th></tr><tr><td>V</td><td>[[-1.68599171]\n",
       " [-0.1940676 ]\n",
       " [-0.02834517]\n",
       " [-0.60851289]\n",
       " [ 0.73162335]\n",
       " [-0.5141174 ]\n",
       " [ 0.04072527]\n",
       " [-0.01327125]\n",
       " [-1.5136682 ]\n",
       " [-1.4095951 ]\n",
       " [-0.14044206]\n",
       " [ 0.63296749]\n",
       " [-0.11095845]\n",
       " [-0.98583702]\n",
       " [ 0.61990596]\n",
       " [ 0.53294504]\n",
       " [ 0.92451918]\n",
       " [-0.15306658]\n",
       " [-0.46426236]\n",
       " [-0.42094161]]</td><td>N([ 0.],[ 1.])</td><td>Param</td></tr><tr><td>kern.kern_list.0.variance</td><td>[ 4.98986731]</td><td>Ga([ 1.],[ 1.])</td><td>PositiveParam</td></tr><tr><td>kern.kern_list.0.lengthscales</td><td>[ 0.22243836]</td><td>Ga([ 1.],[ 1.])</td><td>PositiveParam</td></tr><tr><td>kern.kern_list.1.variance</td><td>[ 1.3529125]</td><td>Ga([ 1.],[ 1.])</td><td>PositiveParam</td></tr></table>"
      ],
      "text/plain": [
       "GPMC(\n",
       "  (mean_function): Zero(\n",
       "  )\n",
       "  (kern): Add(\n",
       "    (kern_list): ModuleList(\n",
       "      (0): Matern32(\n",
       "      )\n",
       "      (1): Bias(\n",
       "      )\n",
       "    )\n",
       "  )\n",
       "  (likelihood): Exponential(\n",
       "  )\n",
       ")"
      ]
     },
     "execution_count": 4,
     "metadata": {},
     "output_type": "execute_result"
    }
   ],
   "source": [
    "# start near MAP\n",
    "opt = torch.optim.LBFGS(m.parameters(), lr=1e-2, max_iter=40)\n",
    "def eval_model():\n",
    "    obj = m()\n",
    "    opt.zero_grad()\n",
    "    obj.backward()\n",
    "    return obj\n",
    "\n",
    "for i in range(50):\n",
    "    obj = m()\n",
    "    opt.zero_grad()\n",
    "    obj.backward()\n",
    "    opt.step(eval_model)\n",
    "    if i%5==0:\n",
    "        print(i,':',obj.data[0])\n",
    "m\n"
   ]
  },
  {
   "cell_type": "code",
   "execution_count": 5,
   "metadata": {
    "cell_id": "7160966566F94A1180E67A1E4BC58063",
    "scrolled": true
   },
   "outputs": [],
   "source": [
    "res = candlegp.training.hmc.hmc_sample(m,500,0.2,burn=50, thin=10)"
   ]
  },
  {
   "cell_type": "code",
   "execution_count": 6,
   "metadata": {
    "cell_id": "B85E4F657D7D4CECB75280DB195127C8"
   },
   "outputs": [],
   "source": [
    "xtest = torch.linspace(-4,4,100).double().unsqueeze(1)\n",
    "\n",
    "f_samples = []\n",
    "for i in range(len(res[0])):\n",
    "    for j,mp in enumerate(m.parameters()):\n",
    "        mp.set(res[j+1][i])\n",
    "    f_samples.append(m.predict_f_samples(Variable(xtest), 5).squeeze(0).t())\n",
    "f_samples = torch.cat(f_samples, dim=0)\n"
   ]
  },
  {
   "cell_type": "code",
   "execution_count": 7,
   "metadata": {
    "cell_id": "F3F0B3A5BBAA4EBB8C11DB0DC9B0CD3D"
   },
   "outputs": [
    {
     "data": {
      "text/plain": [
       "(-0.1, 6.8656001318481055)"
      ]
     },
     "execution_count": 7,
     "metadata": {},
     "output_type": "execute_result"
    },
    {
     "data": {
      "image/png": "[encoded data removed]",
      "text/plain": [
       "<matplotlib.figure.Figure at 0x7faf564831d0>"
      ]
     },
     "metadata": {},
     "output_type": "display_data"
    }
   ],
   "source": [
    "rate_samples = torch.exp(f_samples)\n",
    "pyplot.figure(figsize=(12, 6))\n",
    "line, = pyplot.plot(xtest.numpy(), rate_samples.data.mean(0).numpy(), lw=2)\n",
    "pyplot.fill_between(xtest[:,0], numpy.percentile(rate_samples.data.numpy(), 5, axis=0), numpy.percentile(rate_samples.data.numpy(), 95, axis=0), color=line.get_color(), alpha = 0.2)\n",
    "pyplot.plot(X.data.numpy(), Y.data.numpy(), 'kx', mew=2)\n",
    "pyplot.ylim(-0.1, numpy.max(numpy.percentile(rate_samples.data.numpy(), 95, axis=0)))"
   ]
  },
  {
   "cell_type": "code",
   "execution_count": 8,
   "metadata": {
    "cell_id": "3E50312630C74397AFD21C0672D58368"
   },
   "outputs": [
    {
     "data": {
      "text/html": [
       "<div>\n",
       "<table border=\"1\" class=\"dataframe\">\n",
       "  <thead>\n",
       "    <tr style=\"text-align: right;\">\n",
       "      <th></th>\n",
       "      <th>V</th>\n",
       "      <th>kern.kern_list.0.variance</th>\n",
       "      <th>kern.kern_list.0.lengthscales</th>\n",
       "      <th>kern.kern_list.1.variance</th>\n",
       "    </tr>\n",
       "  </thead>\n",
       "  <tbody>\n",
       "    <tr>\n",
       "      <th>0</th>\n",
       "      <td>[[-1.6831007238686686], [1.3016361375690897], ...</td>\n",
       "      <td>[4.6556942698627815]</td>\n",
       "      <td>[0.4643887295158395]</td>\n",
       "      <td>[0.3671294119229616]</td>\n",
       "    </tr>\n",
       "    <tr>\n",
       "      <th>1</th>\n",
       "      <td>[[-2.0937727270340103], [1.6710961014838948], ...</td>\n",
       "      <td>[3.764495967071015]</td>\n",
       "      <td>[0.5517908322336966]</td>\n",
       "      <td>[0.3250583247922273]</td>\n",
       "    </tr>\n",
       "    <tr>\n",
       "      <th>2</th>\n",
       "      <td>[[-2.363504534992662], [1.9710144582213578], [...</td>\n",
       "      <td>[4.1949465903774605]</td>\n",
       "      <td>[0.7766699449298291]</td>\n",
       "      <td>[0.1581414113421619]</td>\n",
       "    </tr>\n",
       "    <tr>\n",
       "      <th>3</th>\n",
       "      <td>[[-1.0077160084244063], [0.5019987155287693], ...</td>\n",
       "      <td>[2.9652991293902904]</td>\n",
       "      <td>[0.5176796791378486]</td>\n",
       "      <td>[0.26505871137309006]</td>\n",
       "    </tr>\n",
       "    <tr>\n",
       "      <th>4</th>\n",
       "      <td>[[0.2579770772616268], [-0.5869206188305681], ...</td>\n",
       "      <td>[1.7609108210509203]</td>\n",
       "      <td>[0.22965354650828013]</td>\n",
       "      <td>[0.8340661951270663]</td>\n",
       "    </tr>\n",
       "    <tr>\n",
       "      <th>5</th>\n",
       "      <td>[[-1.3583174439898962], [-0.6263895048388393],...</td>\n",
       "      <td>[1.6299249852864743]</td>\n",
       "      <td>[0.3232539860155341]</td>\n",
       "      <td>[0.6524981180201418]</td>\n",
       "    </tr>\n",
       "    <tr>\n",
       "      <th>6</th>\n",
       "      <td>[[-2.2854446527527394], [-1.1434034368923665],...</td>\n",
       "      <td>[1.5217575897320286]</td>\n",
       "      <td>[0.14653953794263117]</td>\n",
       "      <td>[0.8992657762036006]</td>\n",
       "    </tr>\n",
       "    <tr>\n",
       "      <th>7</th>\n",
       "      <td>[[-1.3852636912138412], [-1.3012770340499658],...</td>\n",
       "      <td>[2.398039418756328]</td>\n",
       "      <td>[0.13214371202087305]</td>\n",
       "      <td>[0.3770082619934619]</td>\n",
       "    </tr>\n",
       "    <tr>\n",
       "      <th>8</th>\n",
       "      <td>[[-1.3543026720845852], [-1.8791146753496466],...</td>\n",
       "      <td>[1.7631525816806837]</td>\n",
       "      <td>[0.17526066377973393]</td>\n",
       "      <td>[0.44630329214149916]</td>\n",
       "    </tr>\n",
       "    <tr>\n",
       "      <th>9</th>\n",
       "      <td>[[0.34121948468824115], [-2.500239686962764], ...</td>\n",
       "      <td>[1.1205214360297362]</td>\n",
       "      <td>[0.0630071206916623]</td>\n",
       "      <td>[0.5079278863205233]</td>\n",
       "    </tr>\n",
       "  </tbody>\n",
       "</table>\n",
       "</div>"
      ],
      "text/plain": [
       "                                                   V  \\\n",
       "0  [[-1.6831007238686686], [1.3016361375690897], ...   \n",
       "1  [[-2.0937727270340103], [1.6710961014838948], ...   \n",
       "2  [[-2.363504534992662], [1.9710144582213578], [...   \n",
       "3  [[-1.0077160084244063], [0.5019987155287693], ...   \n",
       "4  [[0.2579770772616268], [-0.5869206188305681], ...   \n",
       "5  [[-1.3583174439898962], [-0.6263895048388393],...   \n",
       "6  [[-2.2854446527527394], [-1.1434034368923665],...   \n",
       "7  [[-1.3852636912138412], [-1.3012770340499658],...   \n",
       "8  [[-1.3543026720845852], [-1.8791146753496466],...   \n",
       "9  [[0.34121948468824115], [-2.500239686962764], ...   \n",
       "\n",
       "  kern.kern_list.0.variance kern.kern_list.0.lengthscales  \\\n",
       "0      [4.6556942698627815]          [0.4643887295158395]   \n",
       "1       [3.764495967071015]          [0.5517908322336966]   \n",
       "2      [4.1949465903774605]          [0.7766699449298291]   \n",
       "3      [2.9652991293902904]          [0.5176796791378486]   \n",
       "4      [1.7609108210509203]         [0.22965354650828013]   \n",
       "5      [1.6299249852864743]          [0.3232539860155341]   \n",
       "6      [1.5217575897320286]         [0.14653953794263117]   \n",
       "7       [2.398039418756328]         [0.13214371202087305]   \n",
       "8      [1.7631525816806837]         [0.17526066377973393]   \n",
       "9      [1.1205214360297362]          [0.0630071206916623]   \n",
       "\n",
       "  kern.kern_list.1.variance  \n",
       "0      [0.3671294119229616]  \n",
       "1      [0.3250583247922273]  \n",
       "2      [0.1581414113421619]  \n",
       "3     [0.26505871137309006]  \n",
       "4      [0.8340661951270663]  \n",
       "5      [0.6524981180201418]  \n",
       "6      [0.8992657762036006]  \n",
       "7      [0.3770082619934619]  \n",
       "8     [0.44630329214149916]  \n",
       "9      [0.5079278863205233]  "
      ]
     },
     "execution_count": 8,
     "metadata": {},
     "output_type": "execute_result"
    }
   ],
   "source": [
    "import pandas\n",
    "df = pandas.DataFrame(res[1:],index=[n for n,p in m.named_parameters()]).transpose()\n",
    "df[:10]"
   ]
  },
  {
   "cell_type": "code",
   "execution_count": 9,
   "metadata": {
    "cell_id": "4E57DE6B13CF4EEFAF6FC03F222C89BD"
   },
   "outputs": [
    {
     "data": {
      "text/plain": [
       "<matplotlib.axes._subplots.AxesSubplot at 0x7faf4e50b2b0>"
      ]
     },
     "execution_count": 9,
     "metadata": {},
     "output_type": "execute_result"
    },
    {
     "data": {
      "image/png": "[encoded data removed]",
      "text/plain": [
       "<matplotlib.figure.Figure at 0x7fafbd493ba8>"
      ]
     },
     "metadata": {},
     "output_type": "display_data"
    }
   ],
   "source": [
    "df[\"kern.kern_list.1.variance\"].apply(lambda x: x[0]).hist(bins=20)"
   ]
  },
  {
   "cell_type": "markdown",
   "metadata": {
    "cell_id": "A21D90723070450B8880E35CC3D77460"
   },
   "source": [
    "# Sparse Version\n",
    "Do the same with sparse:"
   ]
  },
  {
   "cell_type": "code",
   "execution_count": 64,
   "metadata": {
    "cell_id": "3B2793145C1C40849832BC817DE0A1BD"
   },
   "outputs": [
    {
     "data": {
      "text/html": [
       "Model SGPMC<ul><li>mean_function: Zero</li><li>kern: Add</li><li>likelihood: Exponential</li></ul><table><tr><th>Parameter</th><th>Value</th><th>Prior</th><th>ParamType</th></tr><tr><td>Z</td><td>[[-3. ]\n",
       " [-1.5]\n",
       " [ 0. ]\n",
       " [ 1.5]\n",
       " [ 3. ]]</td><td>None</td><td>Param</td></tr><tr><td>V</td><td>[[ 0.]\n",
       " [ 0.]\n",
       " [ 0.]\n",
       " [ 0.]\n",
       " [ 0.]]</td><td>N([ 0.],[ 1.])</td><td>Param</td></tr><tr><td>kern.kern_list.0.variance</td><td>[ 0.99999996]</td><td>Ga([ 1.],[ 1.])</td><td>PositiveParam</td></tr><tr><td>kern.kern_list.0.lengthscales</td><td>[ 0.99999996]</td><td>Ga([ 1.],[ 1.])</td><td>PositiveParam</td></tr><tr><td>kern.kern_list.1.variance</td><td>[ 0.99999996]</td><td>Ga([ 1.],[ 1.])</td><td>PositiveParam</td></tr></table>"
      ],
      "text/plain": [
       "SGPMC(\n",
       "  (mean_function): Zero(\n",
       "  )\n",
       "  (kern): Add(\n",
       "    (kern_list): ModuleList(\n",
       "      (0): Matern32(\n",
       "      )\n",
       "      (1): Bias(\n",
       "      )\n",
       "    )\n",
       "  )\n",
       "  (likelihood): Exponential(\n",
       "  )\n",
       ")"
      ]
     },
     "execution_count": 64,
     "metadata": {},
     "output_type": "execute_result"
    }
   ],
   "source": [
    "Z = torch.linspace(-3,3,5).double().unsqueeze(1)\n",
    "k2 = candlegp.kernels.Matern32(1,ARD=False).double() + candlegp.kernels.Bias(1).double()\n",
    "l2 = candlegp.likelihoods.Exponential()\n",
    "m2 = candlegp.models.SGPMC(X[:,None], Y[:,None], k2, l2, Z)\n",
    "m2.kern.kern_list[0].lengthscales.prior = candlegp.priors.Gamma(1., 1., ttype=torch.DoubleTensor)\n",
    "m2.kern.kern_list[0].variance.prior = candlegp.priors.Gamma(1.,1., ttype=torch.DoubleTensor)\n",
    "m2.kern.kern_list[1].variance.prior = candlegp.priors.Gamma(1.,1., ttype=torch.DoubleTensor)\n",
    "m2.V.prior = candlegp.priors.Gaussian(0.,1., ttype=torch.DoubleTensor)\n",
    "m2"
   ]
  },
  {
   "cell_type": "code",
   "execution_count": 66,
   "metadata": {
    "cell_id": "C0D279C2528B43E0B2D075F03C7741AF"
   },
   "outputs": [
    {
     "name": "stdout",
     "output_type": "stream",
     "text": [
      "0 : 10.700913584492103\n",
      "5 : 10.65179650052569\n",
      "10 : 10.65092347019736\n",
      "15 : 10.650908821871996\n",
      "20 : 10.650908620921495\n",
      "25 : 10.650908616456896\n",
      "30 : 10.650908612419114\n",
      "35 : 10.65090860876745\n",
      "40 : 10.650908605464917\n",
      "45 : 10.6509086024781\n"
     ]
    },
    {
     "data": {
      "text/html": [
       "Model SGPMC<ul><li>mean_function: Zero</li><li>kern: Add</li><li>likelihood: Exponential</li></ul><table><tr><th>Parameter</th><th>Value</th><th>Prior</th><th>ParamType</th></tr><tr><td>Z</td><td>[[-2.81420759]\n",
       " [-1.72888554]\n",
       " [ 0.3797153 ]\n",
       " [ 2.03014416]\n",
       " [ 2.85636085]]</td><td>None</td><td>Param</td></tr><tr><td>V</td><td>[[-1.30268153]\n",
       " [ 0.6239059 ]\n",
       " [-0.5141261 ]\n",
       " [ 0.93960263]\n",
       " [-1.35787413]]</td><td>N([ 0.],[ 1.])</td><td>Param</td></tr><tr><td>kern.kern_list.0.variance</td><td>[ 1.00344159]</td><td>Ga([ 1.],[ 1.])</td><td>PositiveParam</td></tr><tr><td>kern.kern_list.0.lengthscales</td><td>[ 0.8976844]</td><td>Ga([ 1.],[ 1.])</td><td>PositiveParam</td></tr><tr><td>kern.kern_list.1.variance</td><td>[ 1.10702008]</td><td>Ga([ 1.],[ 1.])</td><td>PositiveParam</td></tr></table>"
      ],
      "text/plain": [
       "SGPMC(\n",
       "  (mean_function): Zero(\n",
       "  )\n",
       "  (kern): Add(\n",
       "    (kern_list): ModuleList(\n",
       "      (0): Matern32(\n",
       "      )\n",
       "      (1): Bias(\n",
       "      )\n",
       "    )\n",
       "  )\n",
       "  (likelihood): Exponential(\n",
       "  )\n",
       ")"
      ]
     },
     "execution_count": 66,
     "metadata": {},
     "output_type": "execute_result"
    }
   ],
   "source": [
    "# start near MAP\n",
    "opt = torch.optim.LBFGS(m2.parameters(), lr=1e-2, max_iter=40)\n",
    "def eval_model():\n",
    "    obj = m2()\n",
    "    opt.zero_grad()\n",
    "    obj.backward()\n",
    "    return obj\n",
    "\n",
    "for i in range(50):\n",
    "    obj = m2()\n",
    "    opt.zero_grad()\n",
    "    obj.backward()\n",
    "    opt.step(eval_model)\n",
    "    if i%5==0:\n",
    "        print(i,':',obj.data[0])\n",
    "m2\n"
   ]
  },
  {
   "cell_type": "code",
   "execution_count": 67,
   "metadata": {
    "cell_id": "96AF7D6CA3A24147B2B301970BDEFF38"
   },
   "outputs": [],
   "source": [
    "res = candlegp.training.hmc.hmc_sample(m,500,0.2,burn=50, thin=10)"
   ]
  },
  {
   "cell_type": "code",
   "execution_count": 68,
   "metadata": {
    "cell_id": "0BB4E67575FF45CD8428FE3BF307CDBA"
   },
   "outputs": [],
   "source": [
    "xtest = torch.linspace(-4,4,100).double().unsqueeze(1)\n",
    "\n",
    "f_samples = []\n",
    "for i in range(len(res[0])):\n",
    "    for j,mp in enumerate(m.parameters()):\n",
    "        mp.set(res[j+1][i])\n",
    "    f_samples.append(m.predict_f_samples(Variable(xtest), 5).squeeze(0).t())\n",
    "f_samples = torch.cat(f_samples, dim=0)\n"
   ]
  },
  {
   "cell_type": "code",
   "execution_count": 74,
   "metadata": {
    "cell_id": "939D63437B2749929A5508D761287D53"
   },
   "outputs": [
    {
     "data": {
      "text/plain": [
       "(-0.1, 6.0770952801490914)"
      ]
     },
     "execution_count": 74,
     "metadata": {},
     "output_type": "execute_result"
    },
    {
     "data": {
      "image/png": "[encoded data removed]",
      "text/plain": [
       "<matplotlib.figure.Figure at 0x7faf56283710>"
      ]
     },
     "metadata": {},
     "output_type": "display_data"
    }
   ],
   "source": [
    "rate_samples = torch.exp(f_samples)\n",
    "pyplot.figure(figsize=(12, 6))\n",
    "line, = pyplot.plot(xtest.numpy(), rate_samples.data.mean(0).numpy(), lw=2)\n",
    "pyplot.fill_between(xtest[:,0], numpy.percentile(rate_samples.data.numpy(), 5, axis=0), numpy.percentile(rate_samples.data.numpy(), 95, axis=0), color=line.get_color(), alpha = 0.2)\n",
    "pyplot.plot(X.data.numpy(), Y.data.numpy(), 'kx', mew=2)\n",
    "pyplot.plot(m2.Z.get().data.numpy(),numpy.zeros(m2.num_inducing),'o')\n",
    "pyplot.ylim(-0.1, numpy.max(numpy.percentile(rate_samples.data.numpy(), 95, axis=0)))"
   ]
  },
  {
   "cell_type": "code",
   "execution_count": null,
   "metadata": {
    "cell_id": "53B9DE99B13B4D829A9A691D8C4252B5"
   },
   "outputs": [],
   "source": []
  }
 ],
 "metadata": {
  "anaconda-cloud": {},
  "kernelspec": {
   "display_name": "Python 3",
   "language": "python",
   "name": "python3"
  },
  "language_info": {
   "codemirror_mode": {
    "name": "ipython",
    "version": 3
   },
   "file_extension": ".py",
   "mimetype": "text/x-python",
   "name": "python",
   "nbconvert_exporter": "python",
   "pygments_lexer": "ipython3",
   "version": "3.5.3"
  }
 },
 "nbformat": 4,
 "nbformat_minor": 1
}
