{
 "cells": [
  {
   "cell_type": "markdown",
   "metadata": {
    "cell_id": "05DE16FF3E9B483788D3B192E7AF6F73"
   },
   "source": [
    "# Gaussian Process Regression in Pytorch\n",
    "\n",
    "*Thomas Viehmann*, <tv@lernapparat.de>\n"
   ]
  },
  {
   "cell_type": "code",
   "execution_count": 13,
   "metadata": {
    "cell_id": "C56FA1DC11504021833EAF55BEF3E07D"
   },
   "outputs": [],
   "source": [
    "from matplotlib import pyplot\n",
    "%matplotlib inline\n",
    "import IPython\n",
    "import torch\n",
    "from torch.autograd import Variable\n",
    "import numpy\n",
    "import sys, os\n",
    "sys.path.append(os.path.join(os.getcwd(),'..'))\n",
    "\n",
    "pyplot.style.use('ggplot')"
   ]
  },
  {
   "cell_type": "code",
   "execution_count": 14,
   "metadata": {
    "cell_id": "0503F0A2DAD644419AC97031797D4301"
   },
   "outputs": [],
   "source": [
    "import candlegp\n",
    "import candlegp.training.hmc\n"
   ]
  },
  {
   "cell_type": "markdown",
   "metadata": {
    "cell_id": "582380B3DDE44415B06F652C6940AF71"
   },
   "source": [
    "Let's have a regression example"
   ]
  },
  {
   "cell_type": "code",
   "execution_count": 15,
   "metadata": {
    "cell_id": "7D9AA2647C2C4AD6A42AA374EFF07F28"
   },
   "outputs": [
    {
     "data": {
      "text/plain": [
       "[<matplotlib.lines.Line2D at 0x7fb0275339b0>]"
      ]
     },
     "execution_count": 15,
     "metadata": {},
     "output_type": "execute_result"
    },
    {
     "data": {
      "image/png": "[encoded data removed]",
      "text/plain": [
       "<matplotlib.figure.Figure at 0x7fb031030d30>"
      ]
     },
     "metadata": {},
     "output_type": "display_data"
    }
   ],
   "source": [
    "N = 12\n",
    "X = torch.rand(N,1).double()\n",
    "Y = (torch.sin(12*X) + 0.6*torch.cos(25*X) + torch.randn(N,1).double()*0.1+3.0).squeeze(1)\n",
    "pyplot.figure()\n",
    "pyplot.plot(X.numpy(), Y.numpy(), 'kx', mew=2)\n"
   ]
  },
  {
   "cell_type": "markdown",
   "metadata": {
    "cell_id": "5FA8C7BB5D8F4CF782C2D4F36C7E92A4"
   },
   "source": [
    "## Creating the model\n",
    "\n",
    "Not adapted to the data yet..."
   ]
  },
  {
   "cell_type": "code",
   "execution_count": 16,
   "metadata": {
    "cell_id": "65D558A994034F1880BE4EA866570627"
   },
   "outputs": [
    {
     "data": {
      "text/html": [
       "Model GPR<ul><li>mean_function: Linear</li><li>kern: RBF</li><li>likelihood: Gaussian</li></ul><table><tr><th>Parameter</th><th>Value</th><th>Prior</th><th>ParamType</th></tr><tr><td>mean_function.A</td><td>[[ 1.]]</td><td>None</td><td>Param</td></tr><tr><td>mean_function.b</td><td>[ 0.]</td><td>None</td><td>Param</td></tr><tr><td>kern.variance</td><td>[ 1.]</td><td>None</td><td>PositiveParam</td></tr><tr><td>kern.lengthscales</td><td>[ 0.3]</td><td>None</td><td>PositiveParam</td></tr><tr><td>likelihood.variance</td><td>[ 0.01]</td><td>None</td><td>PositiveParam</td></tr></table>"
      ],
      "text/plain": [
       "GPR (\n",
       "  (mean_function): Linear (\n",
       "  )\n",
       "  (kern): RBF (\n",
       "  )\n",
       "  (likelihood): Gaussian (\n",
       "  )\n",
       ")"
      ]
     },
     "execution_count": 16,
     "metadata": {},
     "output_type": "execute_result"
    }
   ],
   "source": [
    "k = candlegp.kernels.RBF(1, lengthscales=torch.DoubleTensor([0.3]),variance=torch.DoubleTensor([1.0]))\n",
    "mean = candlegp.mean_functions.Linear(torch.DoubleTensor([1]), torch.DoubleTensor([0]))\n",
    "m = candlegp.models.GPR(Variable(X), Variable(Y.unsqueeze(1)), kern=k, mean_function=mean)\n",
    "m.likelihood.variance.set(0.01)\n",
    "m"
   ]
  },
  {
   "cell_type": "code",
   "execution_count": 17,
   "metadata": {
    "cell_id": "F4419330180D453E8DD2183657756C8E"
   },
   "outputs": [
    {
     "data": {
      "text/plain": [
       "[<matplotlib.lines.Line2D at 0x7fb0274a9cc0>]"
      ]
     },
     "execution_count": 17,
     "metadata": {},
     "output_type": "execute_result"
    },
    {
     "data": {
      "image/png": "[encoded data removed]",
      "text/plain": [
       "<matplotlib.figure.Figure at 0x7fb02757b4e0>"
      ]
     },
     "metadata": {},
     "output_type": "display_data"
    }
   ],
   "source": [
    "xstar = torch.linspace(0,1,100).double()\n",
    "mu, var = m.predict_y(Variable(xstar.unsqueeze(1)))\n",
    "cred_size = (var**0.5*2).squeeze(1)\n",
    "\n",
    "mu = mu.squeeze(1)\n",
    "pyplot.plot(xstar.numpy(),mu.data.numpy(),'b')\n",
    "pyplot.fill_between(xstar.numpy(),mu.data.numpy()+cred_size.data.numpy(), mu.data.numpy()-cred_size.data.numpy(),facecolor='0.75')\n",
    "pyplot.plot(X.numpy(), Y.numpy(), 'kx', mew=2)\n"
   ]
  },
  {
   "cell_type": "markdown",
   "metadata": {
    "cell_id": "130B1591381447CBA18011BDA8091211"
   },
   "source": [
    "## Maximum-A-Posteriori\n",
    "\n",
    "One commonly used approach to model selection is to maximize the marginal log likelihood. This is the \"gp\" equivalent of a maximum-likelihood estimate."
   ]
  },
  {
   "cell_type": "code",
   "execution_count": 18,
   "metadata": {
    "cell_id": "AA735CF7DD064499A5C55594A5FAA2C8"
   },
   "outputs": [
    {
     "name": "stdout",
     "output_type": "stream",
     "text": [
      "0 : 172.1448193985431\n",
      "5 : 28.572146360670075\n",
      "10 : 22.051259186540303\n",
      "15 : 21.659851715671604\n",
      "20 : 21.652461448540507\n",
      "25 : 21.652325343400133\n",
      "30 : 21.652322894623428\n",
      "35 : 21.652322889975387\n",
      "40 : 21.652322885771532\n",
      "45 : 21.652322881969678\n"
     ]
    },
    {
     "data": {
      "text/html": [
       "Model GPR<ul><li>mean_function: Linear</li><li>kern: RBF</li><li>likelihood: Gaussian</li></ul><table><tr><th>Parameter</th><th>Value</th><th>Prior</th><th>ParamType</th></tr><tr><td>mean_function.A</td><td>[[-1.61672576]]</td><td>None</td><td>Param</td></tr><tr><td>mean_function.b</td><td>[ 3.63185399]</td><td>None</td><td>Param</td></tr><tr><td>kern.variance</td><td>[ 0.69043957]</td><td>None</td><td>PositiveParam</td></tr><tr><td>kern.lengthscales</td><td>[ 0.0694677]</td><td>None</td><td>PositiveParam</td></tr><tr><td>likelihood.variance</td><td>[ 0.01671995]</td><td>None</td><td>PositiveParam</td></tr></table>"
      ],
      "text/plain": [
       "GPR (\n",
       "  (mean_function): Linear (\n",
       "  )\n",
       "  (kern): RBF (\n",
       "  )\n",
       "  (likelihood): Gaussian (\n",
       "  )\n",
       ")"
      ]
     },
     "execution_count": 18,
     "metadata": {},
     "output_type": "execute_result"
    }
   ],
   "source": [
    "opt = torch.optim.LBFGS(m.parameters(), lr=1e-2, max_iter=40)\n",
    "def eval_model():\n",
    "    obj = m()\n",
    "    opt.zero_grad()\n",
    "    obj.backward()\n",
    "    return obj\n",
    "\n",
    "for i in range(50):\n",
    "    obj = m()\n",
    "    opt.zero_grad()\n",
    "    obj.backward()\n",
    "    opt.step(eval_model)\n",
    "    if i%5==0:\n",
    "        print(i,':',obj.data[0])\n",
    "m"
   ]
  },
  {
   "cell_type": "code",
   "execution_count": 19,
   "metadata": {
    "cell_id": "ED272B8B122E49D29D44A170B4E5D44E"
   },
   "outputs": [
    {
     "data": {
      "text/plain": [
       "[<matplotlib.lines.Line2D at 0x7fb027415f60>]"
      ]
     },
     "execution_count": 19,
     "metadata": {},
     "output_type": "execute_result"
    },
    {
     "data": {
      "image/png": "[encoded data removed]",
      "text/plain": [
       "<matplotlib.figure.Figure at 0x7fb02765b7b8>"
      ]
     },
     "metadata": {},
     "output_type": "display_data"
    }
   ],
   "source": [
    "xstar = torch.linspace(0,1,100).double()\n",
    "mu, var = m.predict_y(Variable(xstar.unsqueeze(1)))\n",
    "cred_size = (var**0.5*2).squeeze(1)\n",
    "\n",
    "mu = mu.squeeze(1)\n",
    "pyplot.plot(xstar.numpy(),mu.data.numpy(),'b')\n",
    "pyplot.fill_between(xstar.numpy(),mu.data.numpy()+cred_size.data.numpy(), mu.data.numpy()-cred_size.data.numpy(),facecolor='0.75')\n",
    "pyplot.plot(X.numpy(), Y.numpy(), 'kx', mew=2)\n"
   ]
  },
  {
   "cell_type": "markdown",
   "metadata": {
    "cell_id": "C7D09D0B66E24BBEA2D770C7C8694DFF"
   },
   "source": [
    "## Hamiltonian Monte Carlo\n",
    "\n",
    "We can go more Bayesian by putting a prior on the parameters and do Hamiltonian Monte Carlo to draw parameters."
   ]
  },
  {
   "cell_type": "code",
   "execution_count": null,
   "metadata": {
    "cell_id": "CB39B19CBCD540E78EC33A0B169C85FD"
   },
   "outputs": [],
   "source": [
    "k2 = candlegp.kernels.RBF(1, lengthscales=torch.DoubleTensor([0.3]),variance=torch.DoubleTensor([1.0]))\n",
    "mean2 = candlegp.mean_functions.Linear(torch.DoubleTensor([1]), torch.DoubleTensor([0]))\n",
    "m2 = candlegp.models.GPR(Variable(X), Variable(Y.unsqueeze(1)), kern=k2, mean_function=mean2)\n",
    "m2.load_state_dict(m.state_dict())\n",
    "m2.likelihood.variance.prior = candlegp.priors.Gamma(1.0,1.0,ttype=torch.DoubleTensor)\n",
    "m2.kern.variance.prior = candlegp.priors.Gamma(1.0,1.0,ttype=torch.DoubleTensor)\n",
    "m2.kern.lengthscales.prior = candlegp.priors.Gamma(1.0,1.0,ttype=torch.DoubleTensor)\n",
    "m2.mean_function.A.prior = candlegp.priors.Gaussian(0.0,10.0, ttype=torch.DoubleTensor)\n",
    "m2.mean_function.b.prior = candlegp.priors.Gaussian(0.0,10.0, ttype=torch.DoubleTensor)\n",
    "print(\"likelihood with priors\",m2().data[0])\n",
    "m2"
   ]
  },
  {
   "cell_type": "code",
   "execution_count": null,
   "metadata": {
    "cell_id": "2C025E9BC16D44FB8915B71B2140A1CC"
   },
   "outputs": [],
   "source": [
    "res = candlegp.training.hmc.hmc_sample(m2,500,0.2,burn=50, thin=10)"
   ]
  },
  {
   "cell_type": "code",
   "execution_count": null,
   "metadata": {
    "cell_id": "52D204E2251B4B8F88F9D2AA2D506F6B"
   },
   "outputs": [],
   "source": [
    "pyplot.plot(res[0]); pyplot.title(\"likelihood\");"
   ]
  },
  {
   "cell_type": "code",
   "execution_count": null,
   "metadata": {
    "cell_id": "9181466484404420BA416155CEDF151D"
   },
   "outputs": [],
   "source": [
    "for (n,p0),p,c in zip(m.named_parameters(),res[1:],['r','g','b','y','b']):\n",
    "  pyplot.plot(torch.stack(p).squeeze().numpy(), c=c, label=n)\n",
    "  pyplot.plot((0,len(p)),(p0.data.view(-1)[0],p0.data.view(-1)[0]), c=c)\n",
    "pyplot.legend();"
   ]
  },
  {
   "cell_type": "markdown",
   "metadata": {
    "cell_id": "ED2420783A214D6C8C8F35E27E498C4F"
   },
   "source": [
    "## Plotting simulated functions\n",
    "\n",
    "(Note that the simulations are for the de-noised functions - i.e. without the noise contribution of the likelihood.)"
   ]
  },
  {
   "cell_type": "code",
   "execution_count": null,
   "metadata": {
    "cell_id": "9819F0FD9C9244E59BB41A4F18EA5F21"
   },
   "outputs": [],
   "source": [
    "xstar = torch.linspace(0,1,100).double()\n",
    "mc_params = torch.stack([torch.cat(p, dim=0) for p in res[1:]],dim=1)\n",
    "\n",
    "allsims = []\n",
    "for ps in mc_params[:50]:\n",
    "    for mp,p in zip(m2.parameters(),ps):\n",
    "        mp.set(p)\n",
    "    allsims.append(m2.predict_f_samples(Variable(xstar.unsqueeze(1)), 1).squeeze(0).t())\n",
    "allsims = torch.cat(allsims, dim=0)\n",
    "\n",
    "pyplot.plot(xstar.numpy(),allsims.data.numpy().T, 'b', lw=2, alpha=0.1)\n",
    "\n",
    "mu, var = m.predict_y(Variable(xstar.unsqueeze(1)))\n",
    "cred_size = (var**0.5*2).squeeze(1)\n",
    "mu = mu.squeeze(1)\n",
    "pyplot.plot(xstar.numpy(),mu.data.numpy(),'b')\n",
    "pyplot.fill_between(xstar.numpy(),mu.data.numpy()+cred_size.data.numpy(), mu.data.numpy()-cred_size.data.numpy(),facecolor='0.75')\n",
    "pyplot.plot(X.numpy(), Y.numpy(), 'kx', mew=2)\n"
   ]
  },
  {
   "cell_type": "markdown",
   "metadata": {
    "cell_id": "5F353474524442BAB744D7D1BED20CDE"
   },
   "source": [
    "# Sparse Regression"
   ]
  },
  {
   "cell_type": "code",
   "execution_count": 28,
   "metadata": {
    "cell_id": "8F1FB7E83FFD40CB99764C93D488590F"
   },
   "outputs": [
    {
     "data": {
      "text/html": [
       "Model SGPR<ul><li>mean_function: Linear</li><li>kern: RBF</li><li>likelihood: Gaussian</li></ul><table><tr><th>Parameter</th><th>Value</th><th>Prior</th><th>ParamType</th></tr><tr><td>Z</td><td>[[ 0.59475344]\n",
       " [ 0.42028281]\n",
       " [ 0.00093972]\n",
       " [ 0.8433978 ]\n",
       " [ 0.04595426]\n",
       " [ 0.64909101]\n",
       " [ 0.37004566]]</td><td>None</td><td>Param</td></tr><tr><td>mean_function.A</td><td>[[ 1.]]</td><td>None</td><td>Param</td></tr><tr><td>mean_function.b</td><td>[ 0.]</td><td>None</td><td>Param</td></tr><tr><td>kern.variance</td><td>[ 1.]</td><td>None</td><td>PositiveParam</td></tr><tr><td>kern.lengthscales</td><td>[ 0.3]</td><td>None</td><td>PositiveParam</td></tr><tr><td>likelihood.variance</td><td>[ 0.01]</td><td>None</td><td>PositiveParam</td></tr></table>"
      ],
      "text/plain": [
       "SGPR (\n",
       "  (mean_function): Linear (\n",
       "  )\n",
       "  (kern): RBF (\n",
       "  )\n",
       "  (likelihood): Gaussian (\n",
       "  )\n",
       ")"
      ]
     },
     "execution_count": 28,
     "metadata": {},
     "output_type": "execute_result"
    }
   ],
   "source": [
    "k3 = candlegp.kernels.RBF(1, lengthscales=torch.DoubleTensor([0.3]),variance=torch.DoubleTensor([1.0]))\n",
    "mean3 = candlegp.mean_functions.Linear(torch.DoubleTensor([1]), torch.DoubleTensor([0]))\n",
    "m3 = candlegp.models.SGPR(Variable(X), Variable(Y.unsqueeze(1)), k3, X[:7].clone(), mean_function=mean3)\n",
    "m3.likelihood.variance.set(0.01)\n",
    "m3\n"
   ]
  },
  {
   "cell_type": "code",
   "execution_count": 29,
   "metadata": {
    "cell_id": "6EECFA90549A41C186352FD6EEDA084F"
   },
   "outputs": [
    {
     "name": "stdout",
     "output_type": "stream",
     "text": [
      "0 : 151.118466812541\n",
      "5 : 15.269211836567024\n",
      "10 : 8.870809890310468\n",
      "15 : 8.464744596637871\n",
      "20 : 8.460658622843269\n",
      "25 : 8.460599191888335\n",
      "30 : 8.460598355187699\n",
      "35 : 8.460598350641789\n",
      "40 : 8.46059834653309\n",
      "45 : 8.460598342817946\n"
     ]
    },
    {
     "data": {
      "text/html": [
       "Model SGPR<ul><li>mean_function: Linear</li><li>kern: RBF</li><li>likelihood: Gaussian</li></ul><table><tr><th>Parameter</th><th>Value</th><th>Prior</th><th>ParamType</th></tr><tr><td>Z</td><td>[[ 0.4704737 ]\n",
       " [ 0.38097791]\n",
       " [ 0.00898348]\n",
       " [ 0.84370832]\n",
       " [ 0.07373433]\n",
       " [ 0.62807518]\n",
       " [ 0.24009045]]</td><td>None</td><td>Param</td></tr><tr><td>mean_function.A</td><td>[[-1.72983099]]</td><td>None</td><td>Param</td></tr><tr><td>mean_function.b</td><td>[ 3.70241307]</td><td>None</td><td>Param</td></tr><tr><td>kern.variance</td><td>[ 0.47886879]</td><td>None</td><td>PositiveParam</td></tr><tr><td>kern.lengthscales</td><td>[ 0.0886398]</td><td>None</td><td>PositiveParam</td></tr><tr><td>likelihood.variance</td><td>[ 0.03231634]</td><td>None</td><td>PositiveParam</td></tr></table>"
      ],
      "text/plain": [
       "SGPR (\n",
       "  (mean_function): Linear (\n",
       "  )\n",
       "  (kern): RBF (\n",
       "  )\n",
       "  (likelihood): Gaussian (\n",
       "  )\n",
       ")"
      ]
     },
     "execution_count": 29,
     "metadata": {},
     "output_type": "execute_result"
    }
   ],
   "source": [
    "opt = torch.optim.LBFGS(m3.parameters(), lr=1e-2, max_iter=40)\n",
    "def eval_model():\n",
    "    obj = m3()\n",
    "    opt.zero_grad()\n",
    "    obj.backward()\n",
    "    return obj\n",
    "\n",
    "for i in range(50):\n",
    "    obj = m3()\n",
    "    opt.zero_grad()\n",
    "    obj.backward()\n",
    "    opt.step(eval_model)\n",
    "    if i%5==0:\n",
    "        print(i,':',obj.data[0])\n",
    "m3\n"
   ]
  },
  {
   "cell_type": "code",
   "execution_count": 30,
   "metadata": {
    "cell_id": "9D4C2F52C55E4C9ABDAC2697C683013C"
   },
   "outputs": [
    {
     "data": {
      "text/plain": [
       "[<matplotlib.lines.Line2D at 0x7fb02719a550>]"
      ]
     },
     "execution_count": 30,
     "metadata": {},
     "output_type": "execute_result"
    },
    {
     "data": {
      "image/png": "[encoded data removed]",
      "text/plain": [
       "<matplotlib.figure.Figure at 0x7fb0271b5390>"
      ]
     },
     "metadata": {},
     "output_type": "display_data"
    }
   ],
   "source": [
    "xstar = torch.linspace(0,1,100).double()\n",
    "mu, var = m3.predict_y(Variable(xstar.unsqueeze(1)))\n",
    "cred_size = (var**0.5*2).squeeze(1)\n",
    "\n",
    "mu = mu.squeeze(1)\n",
    "pyplot.plot(xstar.numpy(),mu.data.numpy(),'b')\n",
    "pyplot.fill_between(xstar.numpy(),mu.data.numpy()+cred_size.data.numpy(), mu.data.numpy()-cred_size.data.numpy(),facecolor='0.75')\n",
    "pyplot.plot(X.numpy(), Y.numpy(), 'kx', mew=2)\n",
    "pyplot.plot(m3.Z.data.numpy(), torch.zeros(m3.Z.size(0)).numpy(),'o')"
   ]
  },
  {
   "cell_type": "code",
   "execution_count": null,
   "metadata": {
    "cell_id": "D675114ABCC945AA8694C5C74046259E"
   },
   "outputs": [],
   "source": []
  }
 ],
 "metadata": {
  "kernelspec": {
   "display_name": "Python 3",
   "language": "python",
   "name": "python3"
  },
  "language_info": {
   "codemirror_mode": {
    "name": "ipython",
    "version": 3
   },
   "file_extension": ".py",
   "mimetype": "text/x-python",
   "name": "python",
   "nbconvert_exporter": "python",
   "pygments_lexer": "ipython3",
   "version": "3.5.3"
  }
 },
 "nbformat": 4,
 "nbformat_minor": 2
}
